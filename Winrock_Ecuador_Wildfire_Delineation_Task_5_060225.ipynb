{
  "nbformat": 4,
  "nbformat_minor": 0,
  "metadata": {
    "colab": {
      "provenance": [],
      "gpuType": "T4",
      "collapsed_sections": [
        "a8jVqmt2TJch"
      ],
      "include_colab_link": true
    },
    "kernelspec": {
      "name": "python3",
      "display_name": "Python 3"
    },
    "language_info": {
      "name": "python"
    },
    "widgets": {
      "application/vnd.jupyter.widget-state+json": {
        "bca0f71e2fd54e0eadc03b810c4acafe": {
          "model_module": "jupyter-leaflet",
          "model_name": "LeafletMapModel",
          "model_module_version": "^0.19",
          "state": {
            "_dom_classes": [],
            "_model_module": "jupyter-leaflet",
            "_model_module_version": "^0.19",
            "_model_name": "LeafletMapModel",
            "_view_count": null,
            "_view_module": "jupyter-leaflet",
            "_view_module_version": "^0.19",
            "_view_name": "LeafletMapView",
            "bottom": 8564,
            "bounce_at_zoom_limits": true,
            "box_zoom": true,
            "center": [
              -1.5818302639606454,
              -81.39801622057405
            ],
            "close_popup_on_click": true,
            "controls": [
              "IPY_MODEL_3d7b8352cdd347bbaf4edec84d74735e",
              "IPY_MODEL_3194c0b3f36b45df91006ed359e4bbef",
              "IPY_MODEL_19bc0d2025454119a97f5bb74b2a00d1",
              "IPY_MODEL_a14ff19ed18b4729bff5fd59132f048c",
              "IPY_MODEL_45b78b41a5aa46bf957b626a335d3259",
              "IPY_MODEL_e7c349ead7bb4ac28e1e11b173acc9e9",
              "IPY_MODEL_d844cad9b9d349d7b922f9e687fedb27",
              "IPY_MODEL_56f68d26a6cc4c8a9a84f2f7e3711942"
            ],
            "crs": {
              "name": "EPSG3857",
              "custom": false
            },
            "default_style": "IPY_MODEL_eaffbfceda144be6bda7af9b65b3e509",
            "double_click_zoom": true,
            "dragging": true,
            "dragging_style": "IPY_MODEL_0b7d5884d69244389cdc4458c589d200",
            "east": -65.21515489244905,
            "fullscreen": false,
            "inertia": true,
            "inertia_deceleration": 3000,
            "inertia_max_speed": 1500,
            "interpolation": "bilinear",
            "keyboard": true,
            "keyboard_pan_offset": 80,
            "keyboard_zoom_offset": 1,
            "layers": [
              "IPY_MODEL_e581b7055a1c46ee867f1a6408b12fb4",
              "IPY_MODEL_050cf51c90ee48ee944c081bfc2ea9ce",
              "IPY_MODEL_87489a55db2b47c9aa1b5acc1aba704e",
              "IPY_MODEL_dfdd96111f124db68e43c6a5a697f8cd",
              "IPY_MODEL_f606216d282e44588de7be67d0e919be",
              "IPY_MODEL_bb7c3c7ad30a4d84be1b0f1b63e59bc5",
              "IPY_MODEL_d8a704d89fe6425dbfd5a776f3b38c08"
            ],
            "layout": "IPY_MODEL_95a1662c3db241e7b96d7dc70542b6ef",
            "left": 3750.9858395614306,
            "max_zoom": 24,
            "min_zoom": null,
            "modisdate": "2025-06-10",
            "north": 5.00339434502215,
            "options": [
              "bounce_at_zoom_limits",
              "box_zoom",
              "center",
              "close_popup_on_click",
              "double_click_zoom",
              "dragging",
              "fullscreen",
              "inertia",
              "inertia_deceleration",
              "inertia_max_speed",
              "interpolation",
              "keyboard",
              "keyboard_pan_offset",
              "keyboard_zoom_offset",
              "max_zoom",
              "min_zoom",
              "prefer_canvas",
              "scroll_wheel_zoom",
              "tap",
              "tap_tolerance",
              "touch_zoom",
              "world_copy_jump",
              "zoom",
              "zoom_animation_threshold",
              "zoom_delta",
              "zoom_snap"
            ],
            "panes": {},
            "prefer_canvas": false,
            "right": 5223.98583956143,
            "scroll_wheel_zoom": true,
            "south": -8.146242825034385,
            "style": "IPY_MODEL_eaffbfceda144be6bda7af9b65b3e509",
            "tap": true,
            "tap_tolerance": 15,
            "top": 7964,
            "touch_zoom": true,
            "west": -97.58087754869905,
            "window_url": "https://3cn51luicv4-496ff2e9c6d22116-0-colab.googleusercontent.com/outputframe.html?vrz=colab_20250610-060103_RC00_769563773",
            "world_copy_jump": false,
            "zoom": 6,
            "zoom_animation_threshold": 4,
            "zoom_delta": 1,
            "zoom_snap": 1
          }
        },
        "3d7b8352cdd347bbaf4edec84d74735e": {
          "model_module": "jupyter-leaflet",
          "model_name": "LeafletWidgetControlModel",
          "model_module_version": "^0.19",
          "state": {
            "_model_module": "jupyter-leaflet",
            "_model_module_version": "^0.19",
            "_model_name": "LeafletWidgetControlModel",
            "_view_count": null,
            "_view_module": "jupyter-leaflet",
            "_view_module_version": "^0.19",
            "_view_name": "LeafletWidgetControlView",
            "max_height": null,
            "max_width": null,
            "min_height": null,
            "min_width": null,
            "options": [
              "position",
              "transparent_bg"
            ],
            "position": "topleft",
            "transparent_bg": false,
            "widget": "IPY_MODEL_81ae99a8fcfa4f45b14741c8aac0174d"
          }
        },
        "3194c0b3f36b45df91006ed359e4bbef": {
          "model_module": "jupyter-leaflet",
          "model_name": "LeafletZoomControlModel",
          "model_module_version": "^0.19",
          "state": {
            "_model_module": "jupyter-leaflet",
            "_model_module_version": "^0.19",
            "_model_name": "LeafletZoomControlModel",
            "_view_count": null,
            "_view_module": "jupyter-leaflet",
            "_view_module_version": "^0.19",
            "_view_name": "LeafletZoomControlView",
            "options": [
              "position",
              "zoom_in_text",
              "zoom_in_title",
              "zoom_out_text",
              "zoom_out_title"
            ],
            "position": "topleft",
            "zoom_in_text": "+",
            "zoom_in_title": "Zoom in",
            "zoom_out_text": "-",
            "zoom_out_title": "Zoom out"
          }
        },
        "19bc0d2025454119a97f5bb74b2a00d1": {
          "model_module": "jupyter-leaflet",
          "model_name": "LeafletScaleControlModel",
          "model_module_version": "^0.19",
          "state": {
            "_model_module": "jupyter-leaflet",
            "_model_module_version": "^0.19",
            "_model_name": "LeafletScaleControlModel",
            "_view_count": null,
            "_view_module": "jupyter-leaflet",
            "_view_module_version": "^0.19",
            "_view_name": "LeafletScaleControlView",
            "imperial": true,
            "max_width": 100,
            "metric": true,
            "options": [
              "imperial",
              "max_width",
              "metric",
              "position",
              "update_when_idle"
            ],
            "position": "bottomleft",
            "update_when_idle": false
          }
        },
        "a14ff19ed18b4729bff5fd59132f048c": {
          "model_module": "jupyter-leaflet",
          "model_name": "LeafletFullScreenControlModel",
          "model_module_version": "^0.19",
          "state": {
            "_model_module": "jupyter-leaflet",
            "_model_module_version": "^0.19",
            "_model_name": "LeafletFullScreenControlModel",
            "_view_count": null,
            "_view_module": "jupyter-leaflet",
            "_view_module_version": "^0.19",
            "_view_name": "LeafletFullScreenControlView",
            "options": [
              "position"
            ],
            "position": "topleft"
          }
        },
        "45b78b41a5aa46bf957b626a335d3259": {
          "model_module": "jupyter-leaflet",
          "model_name": "LeafletMeasureControlModel",
          "model_module_version": "^0.19",
          "state": {
            "_custom_units": {},
            "_model_module": "jupyter-leaflet",
            "_model_module_version": "^0.19",
            "_model_name": "LeafletMeasureControlModel",
            "_view_count": null,
            "_view_module": "jupyter-leaflet",
            "_view_module_version": "^0.19",
            "_view_name": "LeafletMeasureControlView",
            "active_color": "orange",
            "capture_z_index": 10000,
            "completed_color": "#C8F2BE",
            "options": [
              "active_color",
              "capture_z_index",
              "completed_color",
              "popup_options",
              "position",
              "primary_area_unit",
              "primary_length_unit",
              "secondary_area_unit",
              "secondary_length_unit"
            ],
            "popup_options": {
              "className": "leaflet-measure-resultpopup",
              "autoPanPadding": [
                10,
                10
              ]
            },
            "position": "bottomleft",
            "primary_area_unit": "acres",
            "primary_length_unit": "kilometers",
            "secondary_area_unit": null,
            "secondary_length_unit": null
          }
        },
        "e7c349ead7bb4ac28e1e11b173acc9e9": {
          "model_module": "jupyter-leaflet",
          "model_name": "LeafletAttributionControlModel",
          "model_module_version": "^0.19",
          "state": {
            "_model_module": "jupyter-leaflet",
            "_model_module_version": "^0.19",
            "_model_name": "LeafletAttributionControlModel",
            "_view_count": null,
            "_view_module": "jupyter-leaflet",
            "_view_module_version": "^0.19",
            "_view_name": "LeafletAttributionControlView",
            "options": [
              "position",
              "prefix"
            ],
            "position": "bottomright",
            "prefix": "ipyleaflet"
          }
        },
        "d844cad9b9d349d7b922f9e687fedb27": {
          "model_module": "jupyter-leaflet",
          "model_name": "LeafletDrawControlModel",
          "model_module_version": "^0.19",
          "state": {
            "_model_module": "jupyter-leaflet",
            "_model_module_version": "^0.19",
            "_model_name": "LeafletDrawControlModel",
            "_view_count": null,
            "_view_module": "jupyter-leaflet",
            "_view_module_version": "^0.19",
            "_view_name": "LeafletDrawControlView",
            "circle": {
              "shapeOptions": {
                "color": "#3388ff"
              }
            },
            "circlemarker": {},
            "data": [],
            "edit": true,
            "marker": {
              "shapeOptions": {
                "color": "#3388ff"
              }
            },
            "options": [
              "position"
            ],
            "polygon": {
              "shapeOptions": {}
            },
            "polyline": {
              "shapeOptions": {}
            },
            "position": "topleft",
            "rectangle": {
              "shapeOptions": {
                "color": "#3388ff"
              }
            },
            "remove": true
          }
        },
        "56f68d26a6cc4c8a9a84f2f7e3711942": {
          "model_module": "jupyter-leaflet",
          "model_name": "LeafletWidgetControlModel",
          "model_module_version": "^0.19",
          "state": {
            "_model_module": "jupyter-leaflet",
            "_model_module_version": "^0.19",
            "_model_name": "LeafletWidgetControlModel",
            "_view_count": null,
            "_view_module": "jupyter-leaflet",
            "_view_module_version": "^0.19",
            "_view_name": "LeafletWidgetControlView",
            "max_height": null,
            "max_width": null,
            "min_height": null,
            "min_width": null,
            "options": [
              "position",
              "transparent_bg"
            ],
            "position": "topright",
            "transparent_bg": false,
            "widget": "IPY_MODEL_dff27282976043b6a035ecc5caf2b862"
          }
        },
        "eaffbfceda144be6bda7af9b65b3e509": {
          "model_module": "jupyter-leaflet",
          "model_name": "LeafletMapStyleModel",
          "model_module_version": "^0.19",
          "state": {
            "_model_module": "jupyter-leaflet",
            "_model_module_version": "^0.19",
            "_model_name": "LeafletMapStyleModel",
            "_view_count": null,
            "_view_module": "@jupyter-widgets/base",
            "_view_module_version": "1.2.0",
            "_view_name": "StyleView",
            "cursor": "grab"
          }
        },
        "0b7d5884d69244389cdc4458c589d200": {
          "model_module": "jupyter-leaflet",
          "model_name": "LeafletMapStyleModel",
          "model_module_version": "^0.19",
          "state": {
            "_model_module": "jupyter-leaflet",
            "_model_module_version": "^0.19",
            "_model_name": "LeafletMapStyleModel",
            "_view_count": null,
            "_view_module": "@jupyter-widgets/base",
            "_view_module_version": "1.2.0",
            "_view_name": "StyleView",
            "cursor": "move"
          }
        },
        "e581b7055a1c46ee867f1a6408b12fb4": {
          "model_module": "jupyter-leaflet",
          "model_name": "LeafletTileLayerModel",
          "model_module_version": "^0.19",
          "state": {
            "_model_module": "jupyter-leaflet",
            "_model_module_version": "^0.19",
            "_model_name": "LeafletTileLayerModel",
            "_view_count": null,
            "_view_module": "jupyter-leaflet",
            "_view_module_version": "^0.19",
            "_view_name": "LeafletTileLayerView",
            "attribution": "&copy; <a href=\"https://www.openstreetmap.org/copyright\">OpenStreetMap</a> contributors",
            "base": true,
            "bottom": true,
            "bounds": null,
            "detect_retina": false,
            "loading": false,
            "max_native_zoom": null,
            "max_zoom": 19,
            "min_native_zoom": null,
            "min_zoom": 1,
            "name": "OpenStreetMap.Mapnik",
            "no_wrap": false,
            "opacity": 1,
            "options": [
              "attribution",
              "bounds",
              "detect_retina",
              "max_native_zoom",
              "max_zoom",
              "min_native_zoom",
              "min_zoom",
              "no_wrap",
              "tile_size",
              "tms",
              "zoom_offset"
            ],
            "pane": "",
            "popup": null,
            "popup_max_height": null,
            "popup_max_width": 300,
            "popup_min_width": 50,
            "show_loading": false,
            "subitems": [],
            "tile_size": 256,
            "tms": false,
            "url": "https://tile.openstreetmap.org/{z}/{x}/{y}.png",
            "visible": true,
            "zoom_offset": 0
          }
        },
        "050cf51c90ee48ee944c081bfc2ea9ce": {
          "model_module": "jupyter-leaflet",
          "model_name": "LeafletTileLayerModel",
          "model_module_version": "^0.19",
          "state": {
            "_model_module": "jupyter-leaflet",
            "_model_module_version": "^0.19",
            "_model_name": "LeafletTileLayerModel",
            "_view_count": null,
            "_view_module": "jupyter-leaflet",
            "_view_module_version": "^0.19",
            "_view_name": "LeafletTileLayerView",
            "attribution": "Google",
            "base": false,
            "bottom": true,
            "bounds": null,
            "detect_retina": false,
            "loading": false,
            "max_native_zoom": null,
            "max_zoom": 22,
            "min_native_zoom": null,
            "min_zoom": 0,
            "name": "Google Maps",
            "no_wrap": false,
            "opacity": 1,
            "options": [
              "attribution",
              "bounds",
              "detect_retina",
              "max_native_zoom",
              "max_zoom",
              "min_native_zoom",
              "min_zoom",
              "no_wrap",
              "tile_size",
              "tms",
              "zoom_offset"
            ],
            "pane": "",
            "popup": null,
            "popup_max_height": null,
            "popup_max_width": 300,
            "popup_min_width": 50,
            "show_loading": false,
            "subitems": [],
            "tile_size": 256,
            "tms": false,
            "url": "https://mt1.google.com/vt/lyrs=m&x={x}&y={y}&z={z}",
            "visible": true,
            "zoom_offset": 0
          }
        },
        "87489a55db2b47c9aa1b5acc1aba704e": {
          "model_module": "jupyter-leaflet",
          "model_name": "LeafletTileLayerModel",
          "model_module_version": "^0.19",
          "state": {
            "_model_module": "jupyter-leaflet",
            "_model_module_version": "^0.19",
            "_model_name": "LeafletTileLayerModel",
            "_view_count": null,
            "_view_module": "jupyter-leaflet",
            "_view_module_version": "^0.19",
            "_view_name": "LeafletTileLayerView",
            "attribution": "Tiles (C) Esri -- Source: Esri, i-cubed, USDA, USGS, AEX, GeoEye, Getmapping, Aerogrid, IGN, IGP, UPR-EGP, and the GIS User Community",
            "base": false,
            "bottom": true,
            "bounds": null,
            "detect_retina": false,
            "loading": false,
            "max_native_zoom": null,
            "max_zoom": 22,
            "min_native_zoom": null,
            "min_zoom": 0,
            "name": "Esri.WorldImagery",
            "no_wrap": false,
            "opacity": 1,
            "options": [
              "attribution",
              "bounds",
              "detect_retina",
              "max_native_zoom",
              "max_zoom",
              "min_native_zoom",
              "min_zoom",
              "no_wrap",
              "tile_size",
              "tms",
              "zoom_offset"
            ],
            "pane": "",
            "popup": null,
            "popup_max_height": null,
            "popup_max_width": 300,
            "popup_min_width": 50,
            "show_loading": false,
            "subitems": [],
            "tile_size": 256,
            "tms": false,
            "url": "https://server.arcgisonline.com/ArcGIS/rest/services/World_Imagery/MapServer/tile/{z}/{y}/{x}",
            "visible": true,
            "zoom_offset": 0
          }
        },
        "dfdd96111f124db68e43c6a5a697f8cd": {
          "model_module": "jupyter-leaflet",
          "model_name": "LeafletTileLayerModel",
          "model_module_version": "^0.19",
          "state": {
            "_model_module": "jupyter-leaflet",
            "_model_module_version": "^0.19",
            "_model_name": "LeafletTileLayerModel",
            "_view_count": null,
            "_view_module": "jupyter-leaflet",
            "_view_module_version": "^0.19",
            "_view_name": "LeafletTileLayerView",
            "attribution": "Google Earth Engine",
            "base": false,
            "bottom": true,
            "bounds": null,
            "detect_retina": false,
            "loading": false,
            "max_native_zoom": null,
            "max_zoom": 24,
            "min_native_zoom": null,
            "min_zoom": 0,
            "name": "States",
            "no_wrap": false,
            "opacity": 1,
            "options": [
              "attribution",
              "bounds",
              "detect_retina",
              "max_native_zoom",
              "max_zoom",
              "min_native_zoom",
              "min_zoom",
              "no_wrap",
              "tile_size",
              "tms",
              "zoom_offset"
            ],
            "pane": "",
            "popup": null,
            "popup_max_height": null,
            "popup_max_width": 300,
            "popup_min_width": 50,
            "show_loading": false,
            "subitems": [],
            "tile_size": 256,
            "tms": false,
            "url": "https://earthengine.googleapis.com/v1/projects/murphys-deforisk/maps/128f4a2319867bd7ad53b900cca7dd87-afe201580d1065de7b275aaf135373ee/tiles/{z}/{x}/{y}",
            "visible": true,
            "zoom_offset": 0
          }
        },
        "f606216d282e44588de7be67d0e919be": {
          "model_module": "jupyter-leaflet",
          "model_name": "LeafletTileLayerModel",
          "model_module_version": "^0.19",
          "state": {
            "_model_module": "jupyter-leaflet",
            "_model_module_version": "^0.19",
            "_model_name": "LeafletTileLayerModel",
            "_view_count": null,
            "_view_module": "jupyter-leaflet",
            "_view_module_version": "^0.19",
            "_view_name": "LeafletTileLayerView",
            "attribution": "Google Earth Engine",
            "base": false,
            "bottom": true,
            "bounds": null,
            "detect_retina": false,
            "loading": false,
            "max_native_zoom": null,
            "max_zoom": 24,
            "min_native_zoom": null,
            "min_zoom": 0,
            "name": "Country",
            "no_wrap": false,
            "opacity": 1,
            "options": [
              "attribution",
              "bounds",
              "detect_retina",
              "max_native_zoom",
              "max_zoom",
              "min_native_zoom",
              "min_zoom",
              "no_wrap",
              "tile_size",
              "tms",
              "zoom_offset"
            ],
            "pane": "",
            "popup": null,
            "popup_max_height": null,
            "popup_max_width": 300,
            "popup_min_width": 50,
            "show_loading": false,
            "subitems": [],
            "tile_size": 256,
            "tms": false,
            "url": "https://earthengine.googleapis.com/v1/projects/murphys-deforisk/maps/1368515889d3848a6ec0b424384a3716-6657f3b725431810542aec0bca08c0c6/tiles/{z}/{x}/{y}",
            "visible": true,
            "zoom_offset": 0
          }
        },
        "bb7c3c7ad30a4d84be1b0f1b63e59bc5": {
          "model_module": "jupyter-leaflet",
          "model_name": "LeafletLayerGroupModel",
          "model_module_version": "^0.19",
          "state": {
            "_model_module": "jupyter-leaflet",
            "_model_module_version": "^0.19",
            "_model_name": "LeafletLayerGroupModel",
            "_view_count": null,
            "_view_module": "jupyter-leaflet",
            "_view_module_version": "^0.19",
            "_view_name": "LeafletLayerGroupView",
            "base": false,
            "bottom": false,
            "layers": [
              "IPY_MODEL_6713fa9a85ef41dc843f051da55715e7",
              "IPY_MODEL_1f5edd95df2245f5be6be716a377d0cc",
              "IPY_MODEL_7bdc4d6d2e6a40d9b2d2912574823da1",
              "IPY_MODEL_49e51cbc1a684a71811ac35d034c2af2",
              "IPY_MODEL_537d28b5672f46f8868b963fe427e407",
              "IPY_MODEL_aff8dad4bdb748df8c653bf8977cc50f",
              "IPY_MODEL_65d1338e796a485d955721a6d2a6e9cd",
              "IPY_MODEL_837080387dc7488aadac88f83874567c",
              "IPY_MODEL_2a25440b0bc44031a53533b09dc81262",
              "IPY_MODEL_9a0788503e37477698301e86ec88d0a7",
              "IPY_MODEL_408e76d8ea3d426d83361869e26c028f",
              "IPY_MODEL_848b57c7b6c14c6592efaf497feefe65",
              "IPY_MODEL_afdeb023822e4affaa03b34b611ff88e",
              "IPY_MODEL_ae603d4011ae4e9394bc1363849c28f6",
              "IPY_MODEL_4c01ccef63f64f89b5669c9794d1983a",
              "IPY_MODEL_337121e3c5a7453b9db03766ff2f22e1",
              "IPY_MODEL_1cb720c9a4bc48288160e8b8fa4f8a51",
              "IPY_MODEL_2195aeddddf04783aeaf1eb077ddfc22",
              "IPY_MODEL_114684c2038b4c19a1c03ac4a063db4b",
              "IPY_MODEL_7d4cbf8e7a4e4923afd3b80c2b50076a",
              "IPY_MODEL_51526ceba2494a00b9fffce432b49a5f",
              "IPY_MODEL_273fbd75e0fd4e36b9cc02f7e6488999",
              "IPY_MODEL_ba15ed9ad8bd46faa07fa71b37e8547d",
              "IPY_MODEL_646e596a722b44f59f8e2dece131ec3f",
              "IPY_MODEL_acb945149864486cafaf8aef6848ba47"
            ],
            "name": "Labels",
            "options": [],
            "pane": "",
            "popup": null,
            "popup_max_height": null,
            "popup_max_width": 300,
            "popup_min_width": 50,
            "subitems": []
          }
        },
        "d8a704d89fe6425dbfd5a776f3b38c08": {
          "model_module": "jupyter-leaflet",
          "model_name": "LeafletLayerGroupModel",
          "model_module_version": "^0.19",
          "state": {
            "_model_module": "jupyter-leaflet",
            "_model_module_version": "^0.19",
            "_model_name": "LeafletLayerGroupModel",
            "_view_count": null,
            "_view_module": "jupyter-leaflet",
            "_view_module_version": "^0.19",
            "_view_name": "LeafletLayerGroupView",
            "base": false,
            "bottom": false,
            "layers": [
              "IPY_MODEL_67ef0c76e6004a4e85379be3324b35d7"
            ],
            "name": "Labels",
            "options": [],
            "pane": "",
            "popup": null,
            "popup_max_height": null,
            "popup_max_width": 300,
            "popup_min_width": 50,
            "subitems": []
          }
        },
        "95a1662c3db241e7b96d7dc70542b6ef": {
          "model_module": "@jupyter-widgets/base",
          "model_name": "LayoutModel",
          "model_module_version": "1.2.0",
          "state": {
            "_model_module": "@jupyter-widgets/base",
            "_model_module_version": "1.2.0",
            "_model_name": "LayoutModel",
            "_view_count": null,
            "_view_module": "@jupyter-widgets/base",
            "_view_module_version": "1.2.0",
            "_view_name": "LayoutView",
            "align_content": null,
            "align_items": null,
            "align_self": null,
            "border": null,
            "bottom": null,
            "display": null,
            "flex": null,
            "flex_flow": null,
            "grid_area": null,
            "grid_auto_columns": null,
            "grid_auto_flow": null,
            "grid_auto_rows": null,
            "grid_column": null,
            "grid_gap": null,
            "grid_row": null,
            "grid_template_areas": null,
            "grid_template_columns": null,
            "grid_template_rows": null,
            "height": "600px",
            "justify_content": null,
            "justify_items": null,
            "left": null,
            "margin": null,
            "max_height": null,
            "max_width": null,
            "min_height": null,
            "min_width": null,
            "object_fit": null,
            "object_position": null,
            "order": null,
            "overflow": null,
            "overflow_x": null,
            "overflow_y": null,
            "padding": null,
            "right": null,
            "top": null,
            "visibility": null,
            "width": null
          }
        },
        "b976b5b0fd7c4068993a4b3955d178db": {
          "model_module": "jupyter-leaflet",
          "model_name": "LeafletMapStyleModel",
          "model_module_version": "^0.19",
          "state": {
            "_model_module": "jupyter-leaflet",
            "_model_module_version": "^0.19",
            "_model_name": "LeafletMapStyleModel",
            "_view_count": null,
            "_view_module": "@jupyter-widgets/base",
            "_view_module_version": "1.2.0",
            "_view_name": "StyleView",
            "cursor": "grab"
          }
        },
        "81ae99a8fcfa4f45b14741c8aac0174d": {
          "model_module": "@jupyter-widgets/controls",
          "model_name": "HBoxModel",
          "model_module_version": "1.5.0",
          "state": {
            "_dom_classes": [],
            "_model_module": "@jupyter-widgets/controls",
            "_model_module_version": "1.5.0",
            "_model_name": "HBoxModel",
            "_view_count": null,
            "_view_module": "@jupyter-widgets/controls",
            "_view_module_version": "1.5.0",
            "_view_name": "HBoxView",
            "box_style": "",
            "children": [
              "IPY_MODEL_e506411733974d68aa95727c643aba74"
            ],
            "layout": "IPY_MODEL_423d43cbbee041f98c14146508bf0a33"
          }
        },
        "dff27282976043b6a035ecc5caf2b862": {
          "model_module": "@jupyter-widgets/controls",
          "model_name": "VBoxModel",
          "model_module_version": "1.5.0",
          "state": {
            "_dom_classes": [],
            "_model_module": "@jupyter-widgets/controls",
            "_model_module_version": "1.5.0",
            "_model_name": "VBoxModel",
            "_view_count": null,
            "_view_module": "@jupyter-widgets/controls",
            "_view_module_version": "1.5.0",
            "_view_name": "VBoxView",
            "box_style": "",
            "children": [
              "IPY_MODEL_69329e9857474464b6c3139d55840a6c"
            ],
            "layout": "IPY_MODEL_7003c661e80046cd8bc20c1f43a05287"
          }
        },
        "6713fa9a85ef41dc843f051da55715e7": {
          "model_module": "jupyter-leaflet",
          "model_name": "LeafletMarkerModel",
          "model_module_version": "^0.19",
          "state": {
            "_model_module": "jupyter-leaflet",
            "_model_module_version": "^0.19",
            "_model_name": "LeafletMarkerModel",
            "_view_count": null,
            "_view_module": "jupyter-leaflet",
            "_view_module_version": "^0.19",
            "_view_name": "LeafletMarkerView",
            "alt": "",
            "base": false,
            "bottom": false,
            "draggable": true,
            "icon": "IPY_MODEL_60bf7ac74f8b41978d8e32cd2766cb87",
            "keyboard": true,
            "location": [
              -0.6564715832209803,
              -77.82173076923884
            ],
            "name": "",
            "opacity": 1,
            "options": [
              "alt",
              "draggable",
              "keyboard",
              "rise_offset",
              "rise_on_hover",
              "rotation_angle",
              "rotation_origin",
              "title",
              "z_index_offset"
            ],
            "pane": "",
            "popup": null,
            "popup_max_height": null,
            "popup_max_width": 300,
            "popup_min_width": 50,
            "rise_offset": 250,
            "rise_on_hover": false,
            "rotation_angle": 0,
            "rotation_origin": "",
            "subitems": [],
            "title": "",
            "visible": true,
            "z_index_offset": 0
          }
        },
        "1f5edd95df2245f5be6be716a377d0cc": {
          "model_module": "jupyter-leaflet",
          "model_name": "LeafletMarkerModel",
          "model_module_version": "^0.19",
          "state": {
            "_model_module": "jupyter-leaflet",
            "_model_module_version": "^0.19",
            "_model_name": "LeafletMarkerModel",
            "_view_count": null,
            "_view_module": "jupyter-leaflet",
            "_view_module_version": "^0.19",
            "_view_name": "LeafletMarkerView",
            "alt": "",
            "base": false,
            "bottom": false,
            "draggable": true,
            "icon": "IPY_MODEL_311eb59f89fd4e4da5a9ab138e5c5bb6",
            "keyboard": true,
            "location": [
              -0.7885570440949881,
              -76.36814700905674
            ],
            "name": "",
            "opacity": 1,
            "options": [
              "alt",
              "draggable",
              "keyboard",
              "rise_offset",
              "rise_on_hover",
              "rotation_angle",
              "rotation_origin",
              "title",
              "z_index_offset"
            ],
            "pane": "",
            "popup": null,
            "popup_max_height": null,
            "popup_max_width": 300,
            "popup_min_width": 50,
            "rise_offset": 250,
            "rise_on_hover": false,
            "rotation_angle": 0,
            "rotation_origin": "",
            "subitems": [],
            "title": "",
            "visible": true,
            "z_index_offset": 0
          }
        },
        "7bdc4d6d2e6a40d9b2d2912574823da1": {
          "model_module": "jupyter-leaflet",
          "model_name": "LeafletMarkerModel",
          "model_module_version": "^0.19",
          "state": {
            "_model_module": "jupyter-leaflet",
            "_model_module_version": "^0.19",
            "_model_name": "LeafletMarkerModel",
            "_view_count": null,
            "_view_module": "jupyter-leaflet",
            "_view_module_version": "^0.19",
            "_view_name": "LeafletMarkerView",
            "alt": "",
            "base": false,
            "bottom": false,
            "draggable": true,
            "icon": "IPY_MODEL_deb69a3949a94f8c850a40139fec391c",
            "keyboard": true,
            "location": [
              -2.101382582821763,
              -79.88938183391565
            ],
            "name": "",
            "opacity": 1,
            "options": [
              "alt",
              "draggable",
              "keyboard",
              "rise_offset",
              "rise_on_hover",
              "rotation_angle",
              "rotation_origin",
              "title",
              "z_index_offset"
            ],
            "pane": "",
            "popup": null,
            "popup_max_height": null,
            "popup_max_width": 300,
            "popup_min_width": 50,
            "rise_offset": 250,
            "rise_on_hover": false,
            "rotation_angle": 0,
            "rotation_origin": "",
            "subitems": [],
            "title": "",
            "visible": true,
            "z_index_offset": 0
          }
        },
        "49e51cbc1a684a71811ac35d034c2af2": {
          "model_module": "jupyter-leaflet",
          "model_name": "LeafletMarkerModel",
          "model_module_version": "^0.19",
          "state": {
            "_model_module": "jupyter-leaflet",
            "_model_module_version": "^0.19",
            "_model_name": "LeafletMarkerModel",
            "_view_count": null,
            "_view_module": "jupyter-leaflet",
            "_view_module_version": "^0.19",
            "_view_name": "LeafletMarkerView",
            "alt": "",
            "base": false,
            "bottom": false,
            "draggable": true,
            "icon": "IPY_MODEL_21ad0c08d88143ffb3b354744af16e93",
            "keyboard": true,
            "location": [
              -0.10920290247962576,
              -78.5921878882348
            ],
            "name": "",
            "opacity": 1,
            "options": [
              "alt",
              "draggable",
              "keyboard",
              "rise_offset",
              "rise_on_hover",
              "rotation_angle",
              "rotation_origin",
              "title",
              "z_index_offset"
            ],
            "pane": "",
            "popup": null,
            "popup_max_height": null,
            "popup_max_width": 300,
            "popup_min_width": 50,
            "rise_offset": 250,
            "rise_on_hover": false,
            "rotation_angle": 0,
            "rotation_origin": "",
            "subitems": [],
            "title": "",
            "visible": true,
            "z_index_offset": 0
          }
        },
        "537d28b5672f46f8868b963fe427e407": {
          "model_module": "jupyter-leaflet",
          "model_name": "LeafletMarkerModel",
          "model_module_version": "^0.19",
          "state": {
            "_model_module": "jupyter-leaflet",
            "_model_module_version": "^0.19",
            "_model_name": "LeafletMarkerModel",
            "_view_count": null,
            "_view_module": "jupyter-leaflet",
            "_view_module_version": "^0.19",
            "_view_name": "LeafletMarkerView",
            "alt": "",
            "base": false,
            "bottom": false,
            "draggable": true,
            "icon": "IPY_MODEL_06682b43759b400da79fa9d0cbf62a74",
            "keyboard": true,
            "location": [
              -2.1393639527525248,
              -80.57778843448581
            ],
            "name": "",
            "opacity": 1,
            "options": [
              "alt",
              "draggable",
              "keyboard",
              "rise_offset",
              "rise_on_hover",
              "rotation_angle",
              "rotation_origin",
              "title",
              "z_index_offset"
            ],
            "pane": "",
            "popup": null,
            "popup_max_height": null,
            "popup_max_width": 300,
            "popup_min_width": 50,
            "rise_offset": 250,
            "rise_on_hover": false,
            "rotation_angle": 0,
            "rotation_origin": "",
            "subitems": [],
            "title": "",
            "visible": true,
            "z_index_offset": 0
          }
        },
        "aff8dad4bdb748df8c653bf8977cc50f": {
          "model_module": "jupyter-leaflet",
          "model_name": "LeafletMarkerModel",
          "model_module_version": "^0.19",
          "state": {
            "_model_module": "jupyter-leaflet",
            "_model_module_version": "^0.19",
            "_model_name": "LeafletMarkerModel",
            "_view_count": null,
            "_view_module": "jupyter-leaflet",
            "_view_module_version": "^0.19",
            "_view_name": "LeafletMarkerView",
            "alt": "",
            "base": false,
            "bottom": false,
            "draggable": true,
            "icon": "IPY_MODEL_a57c981845664ac7968b6fa9f5562dcf",
            "keyboard": true,
            "location": [
              -0.30606375710242434,
              -79.17681643366285
            ],
            "name": "",
            "opacity": 1,
            "options": [
              "alt",
              "draggable",
              "keyboard",
              "rise_offset",
              "rise_on_hover",
              "rotation_angle",
              "rotation_origin",
              "title",
              "z_index_offset"
            ],
            "pane": "",
            "popup": null,
            "popup_max_height": null,
            "popup_max_width": 300,
            "popup_min_width": 50,
            "rise_offset": 250,
            "rise_on_hover": false,
            "rotation_angle": 0,
            "rotation_origin": "",
            "subitems": [],
            "title": "",
            "visible": true,
            "z_index_offset": 0
          }
        },
        "65d1338e796a485d955721a6d2a6e9cd": {
          "model_module": "jupyter-leaflet",
          "model_name": "LeafletMarkerModel",
          "model_module_version": "^0.19",
          "state": {
            "_model_module": "jupyter-leaflet",
            "_model_module_version": "^0.19",
            "_model_name": "LeafletMarkerModel",
            "_view_count": null,
            "_view_module": "jupyter-leaflet",
            "_view_module_version": "^0.19",
            "_view_name": "LeafletMarkerView",
            "alt": "",
            "base": false,
            "bottom": false,
            "draggable": true,
            "icon": "IPY_MODEL_caa16a6d4cd249b29322eefbfb6892f4",
            "keyboard": true,
            "location": [
              -3.0090580623954377,
              -79.16224857811794
            ],
            "name": "",
            "opacity": 1,
            "options": [
              "alt",
              "draggable",
              "keyboard",
              "rise_offset",
              "rise_on_hover",
              "rotation_angle",
              "rotation_origin",
              "title",
              "z_index_offset"
            ],
            "pane": "",
            "popup": null,
            "popup_max_height": null,
            "popup_max_width": 300,
            "popup_min_width": 50,
            "rise_offset": 250,
            "rise_on_hover": false,
            "rotation_angle": 0,
            "rotation_origin": "",
            "subitems": [],
            "title": "",
            "visible": true,
            "z_index_offset": 0
          }
        },
        "837080387dc7488aadac88f83874567c": {
          "model_module": "jupyter-leaflet",
          "model_name": "LeafletMarkerModel",
          "model_module_version": "^0.19",
          "state": {
            "_model_module": "jupyter-leaflet",
            "_model_module_version": "^0.19",
            "_model_name": "LeafletMarkerModel",
            "_view_count": null,
            "_view_module": "jupyter-leaflet",
            "_view_module_version": "^0.19",
            "_view_name": "LeafletMarkerView",
            "alt": "",
            "base": false,
            "bottom": false,
            "draggable": true,
            "icon": "IPY_MODEL_2a97d645d1fd4231beb944cb8f87f722",
            "keyboard": true,
            "location": [
              -1.5934301301410085,
              -79.10493315083691
            ],
            "name": "",
            "opacity": 1,
            "options": [
              "alt",
              "draggable",
              "keyboard",
              "rise_offset",
              "rise_on_hover",
              "rotation_angle",
              "rotation_origin",
              "title",
              "z_index_offset"
            ],
            "pane": "",
            "popup": null,
            "popup_max_height": null,
            "popup_max_width": 300,
            "popup_min_width": 50,
            "rise_offset": 250,
            "rise_on_hover": false,
            "rotation_angle": 0,
            "rotation_origin": "",
            "subitems": [],
            "title": "",
            "visible": true,
            "z_index_offset": 0
          }
        },
        "2a25440b0bc44031a53533b09dc81262": {
          "model_module": "jupyter-leaflet",
          "model_name": "LeafletMarkerModel",
          "model_module_version": "^0.19",
          "state": {
            "_model_module": "jupyter-leaflet",
            "_model_module_version": "^0.19",
            "_model_name": "LeafletMarkerModel",
            "_view_count": null,
            "_view_module": "jupyter-leaflet",
            "_view_module_version": "^0.19",
            "_view_name": "LeafletMarkerView",
            "alt": "",
            "base": false,
            "bottom": false,
            "draggable": true,
            "icon": "IPY_MODEL_c3cf92bd12db4d12afac874602f967ea",
            "keyboard": true,
            "location": [
              -2.54139181848853,
              -79.01482851161285
            ],
            "name": "",
            "opacity": 1,
            "options": [
              "alt",
              "draggable",
              "keyboard",
              "rise_offset",
              "rise_on_hover",
              "rotation_angle",
              "rotation_origin",
              "title",
              "z_index_offset"
            ],
            "pane": "",
            "popup": null,
            "popup_max_height": null,
            "popup_max_width": 300,
            "popup_min_width": 50,
            "rise_offset": 250,
            "rise_on_hover": false,
            "rotation_angle": 0,
            "rotation_origin": "",
            "subitems": [],
            "title": "",
            "visible": true,
            "z_index_offset": 0
          }
        },
        "9a0788503e37477698301e86ec88d0a7": {
          "model_module": "jupyter-leaflet",
          "model_name": "LeafletMarkerModel",
          "model_module_version": "^0.19",
          "state": {
            "_model_module": "jupyter-leaflet",
            "_model_module_version": "^0.19",
            "_model_name": "LeafletMarkerModel",
            "_view_count": null,
            "_view_module": "jupyter-leaflet",
            "_view_module_version": "^0.19",
            "_view_name": "LeafletMarkerView",
            "alt": "",
            "base": false,
            "bottom": false,
            "draggable": true,
            "icon": "IPY_MODEL_facc511631fc47eb960042c4a8e1cee6",
            "keyboard": true,
            "location": [
              0.7452403172526003,
              -78.05973822296511
            ],
            "name": "",
            "opacity": 1,
            "options": [
              "alt",
              "draggable",
              "keyboard",
              "rise_offset",
              "rise_on_hover",
              "rotation_angle",
              "rotation_origin",
              "title",
              "z_index_offset"
            ],
            "pane": "",
            "popup": null,
            "popup_max_height": null,
            "popup_max_width": 300,
            "popup_min_width": 50,
            "rise_offset": 250,
            "rise_on_hover": false,
            "rotation_angle": 0,
            "rotation_origin": "",
            "subitems": [],
            "title": "",
            "visible": true,
            "z_index_offset": 0
          }
        },
        "408e76d8ea3d426d83361869e26c028f": {
          "model_module": "jupyter-leaflet",
          "model_name": "LeafletMarkerModel",
          "model_module_version": "^0.19",
          "state": {
            "_model_module": "jupyter-leaflet",
            "_model_module_version": "^0.19",
            "_model_name": "LeafletMarkerModel",
            "_view_count": null,
            "_view_module": "jupyter-leaflet",
            "_view_module_version": "^0.19",
            "_view_name": "LeafletMarkerView",
            "alt": "",
            "base": false,
            "bottom": false,
            "draggable": true,
            "icon": "IPY_MODEL_d868182070344d49a7dd2b5c0dc5aebf",
            "keyboard": true,
            "location": [
              -1.9738890117431949,
              -78.71834337703342
            ],
            "name": "",
            "opacity": 1,
            "options": [
              "alt",
              "draggable",
              "keyboard",
              "rise_offset",
              "rise_on_hover",
              "rotation_angle",
              "rotation_origin",
              "title",
              "z_index_offset"
            ],
            "pane": "",
            "popup": null,
            "popup_max_height": null,
            "popup_max_width": 300,
            "popup_min_width": 50,
            "rise_offset": 250,
            "rise_on_hover": false,
            "rotation_angle": 0,
            "rotation_origin": "",
            "subitems": [],
            "title": "",
            "visible": true,
            "z_index_offset": 0
          }
        },
        "848b57c7b6c14c6592efaf497feefe65": {
          "model_module": "jupyter-leaflet",
          "model_name": "LeafletMarkerModel",
          "model_module_version": "^0.19",
          "state": {
            "_model_module": "jupyter-leaflet",
            "_model_module_version": "^0.19",
            "_model_name": "LeafletMarkerModel",
            "_view_count": null,
            "_view_module": "jupyter-leaflet",
            "_view_module_version": "^0.19",
            "_view_name": "LeafletMarkerView",
            "alt": "",
            "base": false,
            "bottom": false,
            "draggable": true,
            "icon": "IPY_MODEL_56a9667fd24e43c3b89da1adf35fd4db",
            "keyboard": true,
            "location": [
              -0.8605392196251197,
              -78.86185219481405
            ],
            "name": "",
            "opacity": 1,
            "options": [
              "alt",
              "draggable",
              "keyboard",
              "rise_offset",
              "rise_on_hover",
              "rotation_angle",
              "rotation_origin",
              "title",
              "z_index_offset"
            ],
            "pane": "",
            "popup": null,
            "popup_max_height": null,
            "popup_max_width": 300,
            "popup_min_width": 50,
            "rise_offset": 250,
            "rise_on_hover": false,
            "rotation_angle": 0,
            "rotation_origin": "",
            "subitems": [],
            "title": "",
            "visible": true,
            "z_index_offset": 0
          }
        },
        "afdeb023822e4affaa03b34b611ff88e": {
          "model_module": "jupyter-leaflet",
          "model_name": "LeafletMarkerModel",
          "model_module_version": "^0.19",
          "state": {
            "_model_module": "jupyter-leaflet",
            "_model_module_version": "^0.19",
            "_model_name": "LeafletMarkerModel",
            "_view_count": null,
            "_view_module": "jupyter-leaflet",
            "_view_module_version": "^0.19",
            "_view_name": "LeafletMarkerView",
            "alt": "",
            "base": false,
            "bottom": false,
            "draggable": true,
            "icon": "IPY_MODEL_e5fd5449bcc0423783841e7e29462abd",
            "keyboard": true,
            "location": [
              -3.5124341029144777,
              -79.82710042755313
            ],
            "name": "",
            "opacity": 1,
            "options": [
              "alt",
              "draggable",
              "keyboard",
              "rise_offset",
              "rise_on_hover",
              "rotation_angle",
              "rotation_origin",
              "title",
              "z_index_offset"
            ],
            "pane": "",
            "popup": null,
            "popup_max_height": null,
            "popup_max_width": 300,
            "popup_min_width": 50,
            "rise_offset": 250,
            "rise_on_hover": false,
            "rotation_angle": 0,
            "rotation_origin": "",
            "subitems": [],
            "title": "",
            "visible": true,
            "z_index_offset": 0
          }
        },
        "ae603d4011ae4e9394bc1363849c28f6": {
          "model_module": "jupyter-leaflet",
          "model_name": "LeafletMarkerModel",
          "model_module_version": "^0.19",
          "state": {
            "_model_module": "jupyter-leaflet",
            "_model_module_version": "^0.19",
            "_model_name": "LeafletMarkerModel",
            "_view_count": null,
            "_view_module": "jupyter-leaflet",
            "_view_module_version": "^0.19",
            "_view_name": "LeafletMarkerView",
            "alt": "",
            "base": false,
            "bottom": false,
            "draggable": true,
            "icon": "IPY_MODEL_7aeb14b08854454da4d60a111a25341a",
            "keyboard": true,
            "location": [
              0.6850922003675898,
              -79.22583230765382
            ],
            "name": "",
            "opacity": 1,
            "options": [
              "alt",
              "draggable",
              "keyboard",
              "rise_offset",
              "rise_on_hover",
              "rotation_angle",
              "rotation_origin",
              "title",
              "z_index_offset"
            ],
            "pane": "",
            "popup": null,
            "popup_max_height": null,
            "popup_max_width": 300,
            "popup_min_width": 50,
            "rise_offset": 250,
            "rise_on_hover": false,
            "rotation_angle": 0,
            "rotation_origin": "",
            "subitems": [],
            "title": "",
            "visible": true,
            "z_index_offset": 0
          }
        },
        "4c01ccef63f64f89b5669c9794d1983a": {
          "model_module": "jupyter-leaflet",
          "model_name": "LeafletMarkerModel",
          "model_module_version": "^0.19",
          "state": {
            "_model_module": "jupyter-leaflet",
            "_model_module_version": "^0.19",
            "_model_name": "LeafletMarkerModel",
            "_view_count": null,
            "_view_module": "jupyter-leaflet",
            "_view_module_version": "^0.19",
            "_view_name": "LeafletMarkerView",
            "alt": "",
            "base": false,
            "bottom": false,
            "draggable": true,
            "icon": "IPY_MODEL_1a9e5f6aedf149dfb2d97bb028db06d5",
            "keyboard": true,
            "location": [
              -0.5496570566020645,
              -90.8991054805462
            ],
            "name": "",
            "opacity": 1,
            "options": [
              "alt",
              "draggable",
              "keyboard",
              "rise_offset",
              "rise_on_hover",
              "rotation_angle",
              "rotation_origin",
              "title",
              "z_index_offset"
            ],
            "pane": "",
            "popup": null,
            "popup_max_height": null,
            "popup_max_width": 300,
            "popup_min_width": 50,
            "rise_offset": 250,
            "rise_on_hover": false,
            "rotation_angle": 0,
            "rotation_origin": "",
            "subitems": [],
            "title": "",
            "visible": true,
            "z_index_offset": 0
          }
        },
        "337121e3c5a7453b9db03766ff2f22e1": {
          "model_module": "jupyter-leaflet",
          "model_name": "LeafletMarkerModel",
          "model_module_version": "^0.19",
          "state": {
            "_model_module": "jupyter-leaflet",
            "_model_module_version": "^0.19",
            "_model_name": "LeafletMarkerModel",
            "_view_count": null,
            "_view_module": "jupyter-leaflet",
            "_view_module_version": "^0.19",
            "_view_name": "LeafletMarkerView",
            "alt": "",
            "base": false,
            "bottom": false,
            "draggable": true,
            "icon": "IPY_MODEL_f6c3777e7e4d4de982c631667dfbc81d",
            "keyboard": true,
            "location": [
              0.4077045930630125,
              -78.34303618755419
            ],
            "name": "",
            "opacity": 1,
            "options": [
              "alt",
              "draggable",
              "keyboard",
              "rise_offset",
              "rise_on_hover",
              "rotation_angle",
              "rotation_origin",
              "title",
              "z_index_offset"
            ],
            "pane": "",
            "popup": null,
            "popup_max_height": null,
            "popup_max_width": 300,
            "popup_min_width": 50,
            "rise_offset": 250,
            "rise_on_hover": false,
            "rotation_angle": 0,
            "rotation_origin": "",
            "subitems": [],
            "title": "",
            "visible": true,
            "z_index_offset": 0
          }
        },
        "1cb720c9a4bc48288160e8b8fa4f8a51": {
          "model_module": "jupyter-leaflet",
          "model_name": "LeafletMarkerModel",
          "model_module_version": "^0.19",
          "state": {
            "_model_module": "jupyter-leaflet",
            "_model_module_version": "^0.19",
            "_model_name": "LeafletMarkerModel",
            "_view_count": null,
            "_view_module": "jupyter-leaflet",
            "_view_module_version": "^0.19",
            "_view_name": "LeafletMarkerView",
            "alt": "",
            "base": false,
            "bottom": false,
            "draggable": true,
            "icon": "IPY_MODEL_605ffc970bb847ff856412fce51c219e",
            "keyboard": true,
            "location": [
              -4.088236566199175,
              -79.65410978883685
            ],
            "name": "",
            "opacity": 1,
            "options": [
              "alt",
              "draggable",
              "keyboard",
              "rise_offset",
              "rise_on_hover",
              "rotation_angle",
              "rotation_origin",
              "title",
              "z_index_offset"
            ],
            "pane": "",
            "popup": null,
            "popup_max_height": null,
            "popup_max_width": 300,
            "popup_min_width": 50,
            "rise_offset": 250,
            "rise_on_hover": false,
            "rotation_angle": 0,
            "rotation_origin": "",
            "subitems": [],
            "title": "",
            "visible": true,
            "z_index_offset": 0
          }
        },
        "2195aeddddf04783aeaf1eb077ddfc22": {
          "model_module": "jupyter-leaflet",
          "model_name": "LeafletMarkerModel",
          "model_module_version": "^0.19",
          "state": {
            "_model_module": "jupyter-leaflet",
            "_model_module_version": "^0.19",
            "_model_name": "LeafletMarkerModel",
            "_view_count": null,
            "_view_module": "jupyter-leaflet",
            "_view_module_version": "^0.19",
            "_view_name": "LeafletMarkerView",
            "alt": "",
            "base": false,
            "bottom": false,
            "draggable": true,
            "icon": "IPY_MODEL_d2cd9fc5c3344950a3ba17b318443266",
            "keyboard": true,
            "location": [
              -1.3462835211629476,
              -79.49077905872417
            ],
            "name": "",
            "opacity": 1,
            "options": [
              "alt",
              "draggable",
              "keyboard",
              "rise_offset",
              "rise_on_hover",
              "rotation_angle",
              "rotation_origin",
              "title",
              "z_index_offset"
            ],
            "pane": "",
            "popup": null,
            "popup_max_height": null,
            "popup_max_width": 300,
            "popup_min_width": 50,
            "rise_offset": 250,
            "rise_on_hover": false,
            "rotation_angle": 0,
            "rotation_origin": "",
            "subitems": [],
            "title": "",
            "visible": true,
            "z_index_offset": 0
          }
        },
        "114684c2038b4c19a1c03ac4a063db4b": {
          "model_module": "jupyter-leaflet",
          "model_name": "LeafletMarkerModel",
          "model_module_version": "^0.19",
          "state": {
            "_model_module": "jupyter-leaflet",
            "_model_module_version": "^0.19",
            "_model_name": "LeafletMarkerModel",
            "_view_count": null,
            "_view_module": "jupyter-leaflet",
            "_view_module_version": "^0.19",
            "_view_name": "LeafletMarkerView",
            "alt": "",
            "base": false,
            "bottom": false,
            "draggable": true,
            "icon": "IPY_MODEL_f815857ffa3f4726baef32c9e8b8cb7a",
            "keyboard": true,
            "location": [
              -0.7568194826129406,
              -80.15066534353153
            ],
            "name": "",
            "opacity": 1,
            "options": [
              "alt",
              "draggable",
              "keyboard",
              "rise_offset",
              "rise_on_hover",
              "rotation_angle",
              "rotation_origin",
              "title",
              "z_index_offset"
            ],
            "pane": "",
            "popup": null,
            "popup_max_height": null,
            "popup_max_width": 300,
            "popup_min_width": 50,
            "rise_offset": 250,
            "rise_on_hover": false,
            "rotation_angle": 0,
            "rotation_origin": "",
            "subitems": [],
            "title": "",
            "visible": true,
            "z_index_offset": 0
          }
        },
        "7d4cbf8e7a4e4923afd3b80c2b50076a": {
          "model_module": "jupyter-leaflet",
          "model_name": "LeafletMarkerModel",
          "model_module_version": "^0.19",
          "state": {
            "_model_module": "jupyter-leaflet",
            "_model_module_version": "^0.19",
            "_model_name": "LeafletMarkerModel",
            "_view_count": null,
            "_view_module": "jupyter-leaflet",
            "_view_module_version": "^0.19",
            "_view_name": "LeafletMarkerView",
            "alt": "",
            "base": false,
            "bottom": false,
            "draggable": true,
            "icon": "IPY_MODEL_c878e78bf9f243cbbbc656fb7ab86d69",
            "keyboard": true,
            "location": [
              -2.568530981070908,
              -78.00593406826832
            ],
            "name": "",
            "opacity": 1,
            "options": [
              "alt",
              "draggable",
              "keyboard",
              "rise_offset",
              "rise_on_hover",
              "rotation_angle",
              "rotation_origin",
              "title",
              "z_index_offset"
            ],
            "pane": "",
            "popup": null,
            "popup_max_height": null,
            "popup_max_width": 300,
            "popup_min_width": 50,
            "rise_offset": 250,
            "rise_on_hover": false,
            "rotation_angle": 0,
            "rotation_origin": "",
            "subitems": [],
            "title": "",
            "visible": true,
            "z_index_offset": 0
          }
        },
        "51526ceba2494a00b9fffce432b49a5f": {
          "model_module": "jupyter-leaflet",
          "model_name": "LeafletMarkerModel",
          "model_module_version": "^0.19",
          "state": {
            "_model_module": "jupyter-leaflet",
            "_model_module_version": "^0.19",
            "_model_name": "LeafletMarkerModel",
            "_view_count": null,
            "_view_module": "jupyter-leaflet",
            "_view_module_version": "^0.19",
            "_view_name": "LeafletMarkerView",
            "alt": "",
            "base": false,
            "bottom": false,
            "draggable": true,
            "icon": "IPY_MODEL_921adc15a45f4f4c8db321a6ef4442de",
            "keyboard": true,
            "location": [
              -1.7184091413126,
              -76.8788529666178
            ],
            "name": "",
            "opacity": 1,
            "options": [
              "alt",
              "draggable",
              "keyboard",
              "rise_offset",
              "rise_on_hover",
              "rotation_angle",
              "rotation_origin",
              "title",
              "z_index_offset"
            ],
            "pane": "",
            "popup": null,
            "popup_max_height": null,
            "popup_max_width": 300,
            "popup_min_width": 50,
            "rise_offset": 250,
            "rise_on_hover": false,
            "rotation_angle": 0,
            "rotation_origin": "",
            "subitems": [],
            "title": "",
            "visible": true,
            "z_index_offset": 0
          }
        },
        "273fbd75e0fd4e36b9cc02f7e6488999": {
          "model_module": "jupyter-leaflet",
          "model_name": "LeafletMarkerModel",
          "model_module_version": "^0.19",
          "state": {
            "_model_module": "jupyter-leaflet",
            "_model_module_version": "^0.19",
            "_model_name": "LeafletMarkerModel",
            "_view_count": null,
            "_view_module": "jupyter-leaflet",
            "_view_module_version": "^0.19",
            "_view_name": "LeafletMarkerView",
            "alt": "",
            "base": false,
            "bottom": false,
            "draggable": true,
            "icon": "IPY_MODEL_cea76e439d584e3898536fb29b3236dc",
            "keyboard": true,
            "location": [
              -0.008905491831131297,
              -76.59374289011133
            ],
            "name": "",
            "opacity": 1,
            "options": [
              "alt",
              "draggable",
              "keyboard",
              "rise_offset",
              "rise_on_hover",
              "rotation_angle",
              "rotation_origin",
              "title",
              "z_index_offset"
            ],
            "pane": "",
            "popup": null,
            "popup_max_height": null,
            "popup_max_width": 300,
            "popup_min_width": 50,
            "rise_offset": 250,
            "rise_on_hover": false,
            "rotation_angle": 0,
            "rotation_origin": "",
            "subitems": [],
            "title": "",
            "visible": true,
            "z_index_offset": 0
          }
        },
        "ba15ed9ad8bd46faa07fa71b37e8547d": {
          "model_module": "jupyter-leaflet",
          "model_name": "LeafletMarkerModel",
          "model_module_version": "^0.19",
          "state": {
            "_model_module": "jupyter-leaflet",
            "_model_module_version": "^0.19",
            "_model_name": "LeafletMarkerModel",
            "_view_count": null,
            "_view_module": "jupyter-leaflet",
            "_view_module_version": "^0.19",
            "_view_name": "LeafletMarkerView",
            "alt": "",
            "base": false,
            "bottom": false,
            "draggable": true,
            "icon": "IPY_MODEL_82784b5a10ad4910a511828619915904",
            "keyboard": true,
            "location": [
              -1.2947206411468337,
              -78.50730919967826
            ],
            "name": "",
            "opacity": 1,
            "options": [
              "alt",
              "draggable",
              "keyboard",
              "rise_offset",
              "rise_on_hover",
              "rotation_angle",
              "rotation_origin",
              "title",
              "z_index_offset"
            ],
            "pane": "",
            "popup": null,
            "popup_max_height": null,
            "popup_max_width": 300,
            "popup_min_width": 50,
            "rise_offset": 250,
            "rise_on_hover": false,
            "rotation_angle": 0,
            "rotation_origin": "",
            "subitems": [],
            "title": "",
            "visible": true,
            "z_index_offset": 0
          }
        },
        "646e596a722b44f59f8e2dece131ec3f": {
          "model_module": "jupyter-leaflet",
          "model_name": "LeafletMarkerModel",
          "model_module_version": "^0.19",
          "state": {
            "_model_module": "jupyter-leaflet",
            "_model_module_version": "^0.19",
            "_model_name": "LeafletMarkerModel",
            "_view_count": null,
            "_view_module": "jupyter-leaflet",
            "_view_module_version": "^0.19",
            "_view_name": "LeafletMarkerView",
            "alt": "",
            "base": false,
            "bottom": false,
            "draggable": true,
            "icon": "IPY_MODEL_b5ab0685bdad470188e4421298b3ca9a",
            "keyboard": true,
            "location": [
              -4.160202271461702,
              -78.88944178656317
            ],
            "name": "",
            "opacity": 1,
            "options": [
              "alt",
              "draggable",
              "keyboard",
              "rise_offset",
              "rise_on_hover",
              "rotation_angle",
              "rotation_origin",
              "title",
              "z_index_offset"
            ],
            "pane": "",
            "popup": null,
            "popup_max_height": null,
            "popup_max_width": 300,
            "popup_min_width": 50,
            "rise_offset": 250,
            "rise_on_hover": false,
            "rotation_angle": 0,
            "rotation_origin": "",
            "subitems": [],
            "title": "",
            "visible": true,
            "z_index_offset": 0
          }
        },
        "acb945149864486cafaf8aef6848ba47": {
          "model_module": "jupyter-leaflet",
          "model_name": "LeafletMarkerModel",
          "model_module_version": "^0.19",
          "state": {
            "_model_module": "jupyter-leaflet",
            "_model_module_version": "^0.19",
            "_model_name": "LeafletMarkerModel",
            "_view_count": null,
            "_view_module": "jupyter-leaflet",
            "_view_module_version": "^0.19",
            "_view_name": "LeafletMarkerView",
            "alt": "",
            "base": false,
            "bottom": false,
            "draggable": true,
            "icon": "IPY_MODEL_158a9df85e2448fda3a515d84ef807a3",
            "keyboard": true,
            "location": [
              -0.8854485491370189,
              -79.43649441257178
            ],
            "name": "",
            "opacity": 1,
            "options": [
              "alt",
              "draggable",
              "keyboard",
              "rise_offset",
              "rise_on_hover",
              "rotation_angle",
              "rotation_origin",
              "title",
              "z_index_offset"
            ],
            "pane": "",
            "popup": null,
            "popup_max_height": null,
            "popup_max_width": 300,
            "popup_min_width": 50,
            "rise_offset": 250,
            "rise_on_hover": false,
            "rotation_angle": 0,
            "rotation_origin": "",
            "subitems": [],
            "title": "",
            "visible": true,
            "z_index_offset": 0
          }
        },
        "67ef0c76e6004a4e85379be3324b35d7": {
          "model_module": "jupyter-leaflet",
          "model_name": "LeafletMarkerModel",
          "model_module_version": "^0.19",
          "state": {
            "_model_module": "jupyter-leaflet",
            "_model_module_version": "^0.19",
            "_model_name": "LeafletMarkerModel",
            "_view_count": null,
            "_view_module": "jupyter-leaflet",
            "_view_module_version": "^0.19",
            "_view_name": "LeafletMarkerView",
            "alt": "",
            "base": false,
            "bottom": false,
            "draggable": true,
            "icon": "IPY_MODEL_b925a15281ef47629ab36558d6dfdc54",
            "keyboard": true,
            "location": [
              -1.4328003721031621,
              -78.76612016462704
            ],
            "name": "",
            "opacity": 1,
            "options": [
              "alt",
              "draggable",
              "keyboard",
              "rise_offset",
              "rise_on_hover",
              "rotation_angle",
              "rotation_origin",
              "title",
              "z_index_offset"
            ],
            "pane": "",
            "popup": null,
            "popup_max_height": null,
            "popup_max_width": 300,
            "popup_min_width": 50,
            "rise_offset": 250,
            "rise_on_hover": false,
            "rotation_angle": 0,
            "rotation_origin": "",
            "subitems": [],
            "title": "",
            "visible": true,
            "z_index_offset": 0
          }
        },
        "e506411733974d68aa95727c643aba74": {
          "model_module": "@jupyter-widgets/controls",
          "model_name": "ToggleButtonModel",
          "model_module_version": "1.5.0",
          "state": {
            "_dom_classes": [],
            "_model_module": "@jupyter-widgets/controls",
            "_model_module_version": "1.5.0",
            "_model_name": "ToggleButtonModel",
            "_view_count": null,
            "_view_module": "@jupyter-widgets/controls",
            "_view_module_version": "1.5.0",
            "_view_name": "ToggleButtonView",
            "button_style": "",
            "description": "",
            "description_tooltip": null,
            "disabled": false,
            "icon": "globe",
            "layout": "IPY_MODEL_6b94e66890ee4256b68769e5edf55ef5",
            "style": "IPY_MODEL_1c7140d9fc034d02a167cdd5169bce1b",
            "tooltip": "Search location/data",
            "value": false
          }
        },
        "423d43cbbee041f98c14146508bf0a33": {
          "model_module": "@jupyter-widgets/base",
          "model_name": "LayoutModel",
          "model_module_version": "1.2.0",
          "state": {
            "_model_module": "@jupyter-widgets/base",
            "_model_module_version": "1.2.0",
            "_model_name": "LayoutModel",
            "_view_count": null,
            "_view_module": "@jupyter-widgets/base",
            "_view_module_version": "1.2.0",
            "_view_name": "LayoutView",
            "align_content": null,
            "align_items": null,
            "align_self": null,
            "border": null,
            "bottom": null,
            "display": null,
            "flex": null,
            "flex_flow": null,
            "grid_area": null,
            "grid_auto_columns": null,
            "grid_auto_flow": null,
            "grid_auto_rows": null,
            "grid_column": null,
            "grid_gap": null,
            "grid_row": null,
            "grid_template_areas": null,
            "grid_template_columns": null,
            "grid_template_rows": null,
            "height": null,
            "justify_content": null,
            "justify_items": null,
            "left": null,
            "margin": null,
            "max_height": null,
            "max_width": null,
            "min_height": null,
            "min_width": null,
            "object_fit": null,
            "object_position": null,
            "order": null,
            "overflow": null,
            "overflow_x": null,
            "overflow_y": null,
            "padding": null,
            "right": null,
            "top": null,
            "visibility": null,
            "width": null
          }
        },
        "69329e9857474464b6c3139d55840a6c": {
          "model_module": "@jupyter-widgets/controls",
          "model_name": "ToggleButtonModel",
          "model_module_version": "1.5.0",
          "state": {
            "_dom_classes": [],
            "_model_module": "@jupyter-widgets/controls",
            "_model_module_version": "1.5.0",
            "_model_name": "ToggleButtonModel",
            "_view_count": null,
            "_view_module": "@jupyter-widgets/controls",
            "_view_module_version": "1.5.0",
            "_view_name": "ToggleButtonView",
            "button_style": "",
            "description": "",
            "description_tooltip": null,
            "disabled": false,
            "icon": "wrench",
            "layout": "IPY_MODEL_18872d7769dd4207b93f10ef8a0ff0f0",
            "style": "IPY_MODEL_882fa1f17bed4aa1a6490339549eed67",
            "tooltip": "Toolbar",
            "value": false
          }
        },
        "7003c661e80046cd8bc20c1f43a05287": {
          "model_module": "@jupyter-widgets/base",
          "model_name": "LayoutModel",
          "model_module_version": "1.2.0",
          "state": {
            "_model_module": "@jupyter-widgets/base",
            "_model_module_version": "1.2.0",
            "_model_name": "LayoutModel",
            "_view_count": null,
            "_view_module": "@jupyter-widgets/base",
            "_view_module_version": "1.2.0",
            "_view_name": "LayoutView",
            "align_content": null,
            "align_items": null,
            "align_self": null,
            "border": null,
            "bottom": null,
            "display": null,
            "flex": null,
            "flex_flow": null,
            "grid_area": null,
            "grid_auto_columns": null,
            "grid_auto_flow": null,
            "grid_auto_rows": null,
            "grid_column": null,
            "grid_gap": null,
            "grid_row": null,
            "grid_template_areas": null,
            "grid_template_columns": null,
            "grid_template_rows": null,
            "height": null,
            "justify_content": null,
            "justify_items": null,
            "left": null,
            "margin": null,
            "max_height": null,
            "max_width": null,
            "min_height": null,
            "min_width": null,
            "object_fit": null,
            "object_position": null,
            "order": null,
            "overflow": null,
            "overflow_x": null,
            "overflow_y": null,
            "padding": null,
            "right": null,
            "top": null,
            "visibility": null,
            "width": null
          }
        },
        "60bf7ac74f8b41978d8e32cd2766cb87": {
          "model_module": "jupyter-leaflet",
          "model_name": "LeafletDivIconModel",
          "model_module_version": "^0.19",
          "state": {
            "_model_module": "jupyter-leaflet",
            "_model_module_version": "^0.19",
            "_model_name": "LeafletDivIconModel",
            "_view_count": null,
            "_view_module": "jupyter-leaflet",
            "_view_module_version": "^0.19",
            "_view_name": "LeafletDivIconView",
            "base": false,
            "bg_pos": [
              0,
              0
            ],
            "bottom": false,
            "html": "<div style=\"font-size: 6pt;color:white;font-family:arial;font-weight: normal\">Napo</div>",
            "icon_anchor": [
              6,
              6
            ],
            "icon_size": [
              1,
              1
            ],
            "name": "",
            "options": [
              "bg_pos",
              "html",
              "icon_anchor",
              "icon_size",
              "popup_anchor"
            ],
            "pane": "",
            "popup": null,
            "popup_anchor": [
              0,
              0
            ],
            "popup_max_height": null,
            "popup_max_width": 300,
            "popup_min_width": 50,
            "subitems": []
          }
        },
        "311eb59f89fd4e4da5a9ab138e5c5bb6": {
          "model_module": "jupyter-leaflet",
          "model_name": "LeafletDivIconModel",
          "model_module_version": "^0.19",
          "state": {
            "_model_module": "jupyter-leaflet",
            "_model_module_version": "^0.19",
            "_model_name": "LeafletDivIconModel",
            "_view_count": null,
            "_view_module": "jupyter-leaflet",
            "_view_module_version": "^0.19",
            "_view_name": "LeafletDivIconView",
            "base": false,
            "bg_pos": [
              0,
              0
            ],
            "bottom": false,
            "html": "<div style=\"font-size: 6pt;color:white;font-family:arial;font-weight: normal\">Orellana</div>",
            "icon_anchor": [
              6,
              6
            ],
            "icon_size": [
              1,
              1
            ],
            "name": "",
            "options": [
              "bg_pos",
              "html",
              "icon_anchor",
              "icon_size",
              "popup_anchor"
            ],
            "pane": "",
            "popup": null,
            "popup_anchor": [
              0,
              0
            ],
            "popup_max_height": null,
            "popup_max_width": 300,
            "popup_min_width": 50,
            "subitems": []
          }
        },
        "deb69a3949a94f8c850a40139fec391c": {
          "model_module": "jupyter-leaflet",
          "model_name": "LeafletDivIconModel",
          "model_module_version": "^0.19",
          "state": {
            "_model_module": "jupyter-leaflet",
            "_model_module_version": "^0.19",
            "_model_name": "LeafletDivIconModel",
            "_view_count": null,
            "_view_module": "jupyter-leaflet",
            "_view_module_version": "^0.19",
            "_view_name": "LeafletDivIconView",
            "base": false,
            "bg_pos": [
              0,
              0
            ],
            "bottom": false,
            "html": "<div style=\"font-size: 6pt;color:white;font-family:arial;font-weight: normal\">Guayas</div>",
            "icon_anchor": [
              6,
              6
            ],
            "icon_size": [
              1,
              1
            ],
            "name": "",
            "options": [
              "bg_pos",
              "html",
              "icon_anchor",
              "icon_size",
              "popup_anchor"
            ],
            "pane": "",
            "popup": null,
            "popup_anchor": [
              0,
              0
            ],
            "popup_max_height": null,
            "popup_max_width": 300,
            "popup_min_width": 50,
            "subitems": []
          }
        },
        "21ad0c08d88143ffb3b354744af16e93": {
          "model_module": "jupyter-leaflet",
          "model_name": "LeafletDivIconModel",
          "model_module_version": "^0.19",
          "state": {
            "_model_module": "jupyter-leaflet",
            "_model_module_version": "^0.19",
            "_model_name": "LeafletDivIconModel",
            "_view_count": null,
            "_view_module": "jupyter-leaflet",
            "_view_module_version": "^0.19",
            "_view_name": "LeafletDivIconView",
            "base": false,
            "bg_pos": [
              0,
              0
            ],
            "bottom": false,
            "html": "<div style=\"font-size: 6pt;color:white;font-family:arial;font-weight: normal\">Pichincha</div>",
            "icon_anchor": [
              6,
              6
            ],
            "icon_size": [
              1,
              1
            ],
            "name": "",
            "options": [
              "bg_pos",
              "html",
              "icon_anchor",
              "icon_size",
              "popup_anchor"
            ],
            "pane": "",
            "popup": null,
            "popup_anchor": [
              0,
              0
            ],
            "popup_max_height": null,
            "popup_max_width": 300,
            "popup_min_width": 50,
            "subitems": []
          }
        },
        "06682b43759b400da79fa9d0cbf62a74": {
          "model_module": "jupyter-leaflet",
          "model_name": "LeafletDivIconModel",
          "model_module_version": "^0.19",
          "state": {
            "_model_module": "jupyter-leaflet",
            "_model_module_version": "^0.19",
            "_model_name": "LeafletDivIconModel",
            "_view_count": null,
            "_view_module": "jupyter-leaflet",
            "_view_module_version": "^0.19",
            "_view_name": "LeafletDivIconView",
            "base": false,
            "bg_pos": [
              0,
              0
            ],
            "bottom": false,
            "html": "<div style=\"font-size: 6pt;color:white;font-family:arial;font-weight: normal\">Santa Elena</div>",
            "icon_anchor": [
              6,
              6
            ],
            "icon_size": [
              1,
              1
            ],
            "name": "",
            "options": [
              "bg_pos",
              "html",
              "icon_anchor",
              "icon_size",
              "popup_anchor"
            ],
            "pane": "",
            "popup": null,
            "popup_anchor": [
              0,
              0
            ],
            "popup_max_height": null,
            "popup_max_width": 300,
            "popup_min_width": 50,
            "subitems": []
          }
        },
        "a57c981845664ac7968b6fa9f5562dcf": {
          "model_module": "jupyter-leaflet",
          "model_name": "LeafletDivIconModel",
          "model_module_version": "^0.19",
          "state": {
            "_model_module": "jupyter-leaflet",
            "_model_module_version": "^0.19",
            "_model_name": "LeafletDivIconModel",
            "_view_count": null,
            "_view_module": "jupyter-leaflet",
            "_view_module_version": "^0.19",
            "_view_name": "LeafletDivIconView",
            "base": false,
            "bg_pos": [
              0,
              0
            ],
            "bottom": false,
            "html": "<div style=\"font-size: 6pt;color:white;font-family:arial;font-weight: normal\">Santo Domingo de los Tsachilas</div>",
            "icon_anchor": [
              6,
              6
            ],
            "icon_size": [
              1,
              1
            ],
            "name": "",
            "options": [
              "bg_pos",
              "html",
              "icon_anchor",
              "icon_size",
              "popup_anchor"
            ],
            "pane": "",
            "popup": null,
            "popup_anchor": [
              0,
              0
            ],
            "popup_max_height": null,
            "popup_max_width": 300,
            "popup_min_width": 50,
            "subitems": []
          }
        },
        "caa16a6d4cd249b29322eefbfb6892f4": {
          "model_module": "jupyter-leaflet",
          "model_name": "LeafletDivIconModel",
          "model_module_version": "^0.19",
          "state": {
            "_model_module": "jupyter-leaflet",
            "_model_module_version": "^0.19",
            "_model_name": "LeafletDivIconModel",
            "_view_count": null,
            "_view_module": "jupyter-leaflet",
            "_view_module_version": "^0.19",
            "_view_name": "LeafletDivIconView",
            "base": false,
            "bg_pos": [
              0,
              0
            ],
            "bottom": false,
            "html": "<div style=\"font-size: 6pt;color:white;font-family:arial;font-weight: normal\">Azuay</div>",
            "icon_anchor": [
              6,
              6
            ],
            "icon_size": [
              1,
              1
            ],
            "name": "",
            "options": [
              "bg_pos",
              "html",
              "icon_anchor",
              "icon_size",
              "popup_anchor"
            ],
            "pane": "",
            "popup": null,
            "popup_anchor": [
              0,
              0
            ],
            "popup_max_height": null,
            "popup_max_width": 300,
            "popup_min_width": 50,
            "subitems": []
          }
        },
        "2a97d645d1fd4231beb944cb8f87f722": {
          "model_module": "jupyter-leaflet",
          "model_name": "LeafletDivIconModel",
          "model_module_version": "^0.19",
          "state": {
            "_model_module": "jupyter-leaflet",
            "_model_module_version": "^0.19",
            "_model_name": "LeafletDivIconModel",
            "_view_count": null,
            "_view_module": "jupyter-leaflet",
            "_view_module_version": "^0.19",
            "_view_name": "LeafletDivIconView",
            "base": false,
            "bg_pos": [
              0,
              0
            ],
            "bottom": false,
            "html": "<div style=\"font-size: 6pt;color:white;font-family:arial;font-weight: normal\">Bolivar</div>",
            "icon_anchor": [
              6,
              6
            ],
            "icon_size": [
              1,
              1
            ],
            "name": "",
            "options": [
              "bg_pos",
              "html",
              "icon_anchor",
              "icon_size",
              "popup_anchor"
            ],
            "pane": "",
            "popup": null,
            "popup_anchor": [
              0,
              0
            ],
            "popup_max_height": null,
            "popup_max_width": 300,
            "popup_min_width": 50,
            "subitems": []
          }
        },
        "c3cf92bd12db4d12afac874602f967ea": {
          "model_module": "jupyter-leaflet",
          "model_name": "LeafletDivIconModel",
          "model_module_version": "^0.19",
          "state": {
            "_model_module": "jupyter-leaflet",
            "_model_module_version": "^0.19",
            "_model_name": "LeafletDivIconModel",
            "_view_count": null,
            "_view_module": "jupyter-leaflet",
            "_view_module_version": "^0.19",
            "_view_name": "LeafletDivIconView",
            "base": false,
            "bg_pos": [
              0,
              0
            ],
            "bottom": false,
            "html": "<div style=\"font-size: 6pt;color:white;font-family:arial;font-weight: normal\">Canar</div>",
            "icon_anchor": [
              6,
              6
            ],
            "icon_size": [
              1,
              1
            ],
            "name": "",
            "options": [
              "bg_pos",
              "html",
              "icon_anchor",
              "icon_size",
              "popup_anchor"
            ],
            "pane": "",
            "popup": null,
            "popup_anchor": [
              0,
              0
            ],
            "popup_max_height": null,
            "popup_max_width": 300,
            "popup_min_width": 50,
            "subitems": []
          }
        },
        "facc511631fc47eb960042c4a8e1cee6": {
          "model_module": "jupyter-leaflet",
          "model_name": "LeafletDivIconModel",
          "model_module_version": "^0.19",
          "state": {
            "_model_module": "jupyter-leaflet",
            "_model_module_version": "^0.19",
            "_model_name": "LeafletDivIconModel",
            "_view_count": null,
            "_view_module": "jupyter-leaflet",
            "_view_module_version": "^0.19",
            "_view_name": "LeafletDivIconView",
            "base": false,
            "bg_pos": [
              0,
              0
            ],
            "bottom": false,
            "html": "<div style=\"font-size: 6pt;color:white;font-family:arial;font-weight: normal\">Carchi</div>",
            "icon_anchor": [
              6,
              6
            ],
            "icon_size": [
              1,
              1
            ],
            "name": "",
            "options": [
              "bg_pos",
              "html",
              "icon_anchor",
              "icon_size",
              "popup_anchor"
            ],
            "pane": "",
            "popup": null,
            "popup_anchor": [
              0,
              0
            ],
            "popup_max_height": null,
            "popup_max_width": 300,
            "popup_min_width": 50,
            "subitems": []
          }
        },
        "d868182070344d49a7dd2b5c0dc5aebf": {
          "model_module": "jupyter-leaflet",
          "model_name": "LeafletDivIconModel",
          "model_module_version": "^0.19",
          "state": {
            "_model_module": "jupyter-leaflet",
            "_model_module_version": "^0.19",
            "_model_name": "LeafletDivIconModel",
            "_view_count": null,
            "_view_module": "jupyter-leaflet",
            "_view_module_version": "^0.19",
            "_view_name": "LeafletDivIconView",
            "base": false,
            "bg_pos": [
              0,
              0
            ],
            "bottom": false,
            "html": "<div style=\"font-size: 6pt;color:white;font-family:arial;font-weight: normal\">Chimborazo</div>",
            "icon_anchor": [
              6,
              6
            ],
            "icon_size": [
              1,
              1
            ],
            "name": "",
            "options": [
              "bg_pos",
              "html",
              "icon_anchor",
              "icon_size",
              "popup_anchor"
            ],
            "pane": "",
            "popup": null,
            "popup_anchor": [
              0,
              0
            ],
            "popup_max_height": null,
            "popup_max_width": 300,
            "popup_min_width": 50,
            "subitems": []
          }
        },
        "56a9667fd24e43c3b89da1adf35fd4db": {
          "model_module": "jupyter-leaflet",
          "model_name": "LeafletDivIconModel",
          "model_module_version": "^0.19",
          "state": {
            "_model_module": "jupyter-leaflet",
            "_model_module_version": "^0.19",
            "_model_name": "LeafletDivIconModel",
            "_view_count": null,
            "_view_module": "jupyter-leaflet",
            "_view_module_version": "^0.19",
            "_view_name": "LeafletDivIconView",
            "base": false,
            "bg_pos": [
              0,
              0
            ],
            "bottom": false,
            "html": "<div style=\"font-size: 6pt;color:white;font-family:arial;font-weight: normal\">Cotopaxi</div>",
            "icon_anchor": [
              6,
              6
            ],
            "icon_size": [
              1,
              1
            ],
            "name": "",
            "options": [
              "bg_pos",
              "html",
              "icon_anchor",
              "icon_size",
              "popup_anchor"
            ],
            "pane": "",
            "popup": null,
            "popup_anchor": [
              0,
              0
            ],
            "popup_max_height": null,
            "popup_max_width": 300,
            "popup_min_width": 50,
            "subitems": []
          }
        },
        "e5fd5449bcc0423783841e7e29462abd": {
          "model_module": "jupyter-leaflet",
          "model_name": "LeafletDivIconModel",
          "model_module_version": "^0.19",
          "state": {
            "_model_module": "jupyter-leaflet",
            "_model_module_version": "^0.19",
            "_model_name": "LeafletDivIconModel",
            "_view_count": null,
            "_view_module": "jupyter-leaflet",
            "_view_module_version": "^0.19",
            "_view_name": "LeafletDivIconView",
            "base": false,
            "bg_pos": [
              0,
              0
            ],
            "bottom": false,
            "html": "<div style=\"font-size: 6pt;color:white;font-family:arial;font-weight: normal\">El Oro</div>",
            "icon_anchor": [
              6,
              6
            ],
            "icon_size": [
              1,
              1
            ],
            "name": "",
            "options": [
              "bg_pos",
              "html",
              "icon_anchor",
              "icon_size",
              "popup_anchor"
            ],
            "pane": "",
            "popup": null,
            "popup_anchor": [
              0,
              0
            ],
            "popup_max_height": null,
            "popup_max_width": 300,
            "popup_min_width": 50,
            "subitems": []
          }
        },
        "7aeb14b08854454da4d60a111a25341a": {
          "model_module": "jupyter-leaflet",
          "model_name": "LeafletDivIconModel",
          "model_module_version": "^0.19",
          "state": {
            "_model_module": "jupyter-leaflet",
            "_model_module_version": "^0.19",
            "_model_name": "LeafletDivIconModel",
            "_view_count": null,
            "_view_module": "jupyter-leaflet",
            "_view_module_version": "^0.19",
            "_view_name": "LeafletDivIconView",
            "base": false,
            "bg_pos": [
              0,
              0
            ],
            "bottom": false,
            "html": "<div style=\"font-size: 6pt;color:white;font-family:arial;font-weight: normal\">Esmeraldas</div>",
            "icon_anchor": [
              6,
              6
            ],
            "icon_size": [
              1,
              1
            ],
            "name": "",
            "options": [
              "bg_pos",
              "html",
              "icon_anchor",
              "icon_size",
              "popup_anchor"
            ],
            "pane": "",
            "popup": null,
            "popup_anchor": [
              0,
              0
            ],
            "popup_max_height": null,
            "popup_max_width": 300,
            "popup_min_width": 50,
            "subitems": []
          }
        },
        "1a9e5f6aedf149dfb2d97bb028db06d5": {
          "model_module": "jupyter-leaflet",
          "model_name": "LeafletDivIconModel",
          "model_module_version": "^0.19",
          "state": {
            "_model_module": "jupyter-leaflet",
            "_model_module_version": "^0.19",
            "_model_name": "LeafletDivIconModel",
            "_view_count": null,
            "_view_module": "jupyter-leaflet",
            "_view_module_version": "^0.19",
            "_view_name": "LeafletDivIconView",
            "base": false,
            "bg_pos": [
              0,
              0
            ],
            "bottom": false,
            "html": "<div style=\"font-size: 6pt;color:white;font-family:arial;font-weight: normal\">Galapagos</div>",
            "icon_anchor": [
              6,
              6
            ],
            "icon_size": [
              1,
              1
            ],
            "name": "",
            "options": [
              "bg_pos",
              "html",
              "icon_anchor",
              "icon_size",
              "popup_anchor"
            ],
            "pane": "",
            "popup": null,
            "popup_anchor": [
              0,
              0
            ],
            "popup_max_height": null,
            "popup_max_width": 300,
            "popup_min_width": 50,
            "subitems": []
          }
        },
        "f6c3777e7e4d4de982c631667dfbc81d": {
          "model_module": "jupyter-leaflet",
          "model_name": "LeafletDivIconModel",
          "model_module_version": "^0.19",
          "state": {
            "_model_module": "jupyter-leaflet",
            "_model_module_version": "^0.19",
            "_model_name": "LeafletDivIconModel",
            "_view_count": null,
            "_view_module": "jupyter-leaflet",
            "_view_module_version": "^0.19",
            "_view_name": "LeafletDivIconView",
            "base": false,
            "bg_pos": [
              0,
              0
            ],
            "bottom": false,
            "html": "<div style=\"font-size: 6pt;color:white;font-family:arial;font-weight: normal\">Imbabura</div>",
            "icon_anchor": [
              6,
              6
            ],
            "icon_size": [
              1,
              1
            ],
            "name": "",
            "options": [
              "bg_pos",
              "html",
              "icon_anchor",
              "icon_size",
              "popup_anchor"
            ],
            "pane": "",
            "popup": null,
            "popup_anchor": [
              0,
              0
            ],
            "popup_max_height": null,
            "popup_max_width": 300,
            "popup_min_width": 50,
            "subitems": []
          }
        },
        "605ffc970bb847ff856412fce51c219e": {
          "model_module": "jupyter-leaflet",
          "model_name": "LeafletDivIconModel",
          "model_module_version": "^0.19",
          "state": {
            "_model_module": "jupyter-leaflet",
            "_model_module_version": "^0.19",
            "_model_name": "LeafletDivIconModel",
            "_view_count": null,
            "_view_module": "jupyter-leaflet",
            "_view_module_version": "^0.19",
            "_view_name": "LeafletDivIconView",
            "base": false,
            "bg_pos": [
              0,
              0
            ],
            "bottom": false,
            "html": "<div style=\"font-size: 6pt;color:white;font-family:arial;font-weight: normal\">Loja</div>",
            "icon_anchor": [
              6,
              6
            ],
            "icon_size": [
              1,
              1
            ],
            "name": "",
            "options": [
              "bg_pos",
              "html",
              "icon_anchor",
              "icon_size",
              "popup_anchor"
            ],
            "pane": "",
            "popup": null,
            "popup_anchor": [
              0,
              0
            ],
            "popup_max_height": null,
            "popup_max_width": 300,
            "popup_min_width": 50,
            "subitems": []
          }
        },
        "d2cd9fc5c3344950a3ba17b318443266": {
          "model_module": "jupyter-leaflet",
          "model_name": "LeafletDivIconModel",
          "model_module_version": "^0.19",
          "state": {
            "_model_module": "jupyter-leaflet",
            "_model_module_version": "^0.19",
            "_model_name": "LeafletDivIconModel",
            "_view_count": null,
            "_view_module": "jupyter-leaflet",
            "_view_module_version": "^0.19",
            "_view_name": "LeafletDivIconView",
            "base": false,
            "bg_pos": [
              0,
              0
            ],
            "bottom": false,
            "html": "<div style=\"font-size: 6pt;color:white;font-family:arial;font-weight: normal\">Los Rios</div>",
            "icon_anchor": [
              6,
              6
            ],
            "icon_size": [
              1,
              1
            ],
            "name": "",
            "options": [
              "bg_pos",
              "html",
              "icon_anchor",
              "icon_size",
              "popup_anchor"
            ],
            "pane": "",
            "popup": null,
            "popup_anchor": [
              0,
              0
            ],
            "popup_max_height": null,
            "popup_max_width": 300,
            "popup_min_width": 50,
            "subitems": []
          }
        },
        "f815857ffa3f4726baef32c9e8b8cb7a": {
          "model_module": "jupyter-leaflet",
          "model_name": "LeafletDivIconModel",
          "model_module_version": "^0.19",
          "state": {
            "_model_module": "jupyter-leaflet",
            "_model_module_version": "^0.19",
            "_model_name": "LeafletDivIconModel",
            "_view_count": null,
            "_view_module": "jupyter-leaflet",
            "_view_module_version": "^0.19",
            "_view_name": "LeafletDivIconView",
            "base": false,
            "bg_pos": [
              0,
              0
            ],
            "bottom": false,
            "html": "<div style=\"font-size: 6pt;color:white;font-family:arial;font-weight: normal\">Manabi</div>",
            "icon_anchor": [
              6,
              6
            ],
            "icon_size": [
              1,
              1
            ],
            "name": "",
            "options": [
              "bg_pos",
              "html",
              "icon_anchor",
              "icon_size",
              "popup_anchor"
            ],
            "pane": "",
            "popup": null,
            "popup_anchor": [
              0,
              0
            ],
            "popup_max_height": null,
            "popup_max_width": 300,
            "popup_min_width": 50,
            "subitems": []
          }
        },
        "c878e78bf9f243cbbbc656fb7ab86d69": {
          "model_module": "jupyter-leaflet",
          "model_name": "LeafletDivIconModel",
          "model_module_version": "^0.19",
          "state": {
            "_model_module": "jupyter-leaflet",
            "_model_module_version": "^0.19",
            "_model_name": "LeafletDivIconModel",
            "_view_count": null,
            "_view_module": "jupyter-leaflet",
            "_view_module_version": "^0.19",
            "_view_name": "LeafletDivIconView",
            "base": false,
            "bg_pos": [
              0,
              0
            ],
            "bottom": false,
            "html": "<div style=\"font-size: 6pt;color:white;font-family:arial;font-weight: normal\">Morona Santiago</div>",
            "icon_anchor": [
              6,
              6
            ],
            "icon_size": [
              1,
              1
            ],
            "name": "",
            "options": [
              "bg_pos",
              "html",
              "icon_anchor",
              "icon_size",
              "popup_anchor"
            ],
            "pane": "",
            "popup": null,
            "popup_anchor": [
              0,
              0
            ],
            "popup_max_height": null,
            "popup_max_width": 300,
            "popup_min_width": 50,
            "subitems": []
          }
        },
        "921adc15a45f4f4c8db321a6ef4442de": {
          "model_module": "jupyter-leaflet",
          "model_name": "LeafletDivIconModel",
          "model_module_version": "^0.19",
          "state": {
            "_model_module": "jupyter-leaflet",
            "_model_module_version": "^0.19",
            "_model_name": "LeafletDivIconModel",
            "_view_count": null,
            "_view_module": "jupyter-leaflet",
            "_view_module_version": "^0.19",
            "_view_name": "LeafletDivIconView",
            "base": false,
            "bg_pos": [
              0,
              0
            ],
            "bottom": false,
            "html": "<div style=\"font-size: 6pt;color:white;font-family:arial;font-weight: normal\">Pastaza</div>",
            "icon_anchor": [
              6,
              6
            ],
            "icon_size": [
              1,
              1
            ],
            "name": "",
            "options": [
              "bg_pos",
              "html",
              "icon_anchor",
              "icon_size",
              "popup_anchor"
            ],
            "pane": "",
            "popup": null,
            "popup_anchor": [
              0,
              0
            ],
            "popup_max_height": null,
            "popup_max_width": 300,
            "popup_min_width": 50,
            "subitems": []
          }
        },
        "cea76e439d584e3898536fb29b3236dc": {
          "model_module": "jupyter-leaflet",
          "model_name": "LeafletDivIconModel",
          "model_module_version": "^0.19",
          "state": {
            "_model_module": "jupyter-leaflet",
            "_model_module_version": "^0.19",
            "_model_name": "LeafletDivIconModel",
            "_view_count": null,
            "_view_module": "jupyter-leaflet",
            "_view_module_version": "^0.19",
            "_view_name": "LeafletDivIconView",
            "base": false,
            "bg_pos": [
              0,
              0
            ],
            "bottom": false,
            "html": "<div style=\"font-size: 6pt;color:white;font-family:arial;font-weight: normal\">Sucumbios</div>",
            "icon_anchor": [
              6,
              6
            ],
            "icon_size": [
              1,
              1
            ],
            "name": "",
            "options": [
              "bg_pos",
              "html",
              "icon_anchor",
              "icon_size",
              "popup_anchor"
            ],
            "pane": "",
            "popup": null,
            "popup_anchor": [
              0,
              0
            ],
            "popup_max_height": null,
            "popup_max_width": 300,
            "popup_min_width": 50,
            "subitems": []
          }
        },
        "82784b5a10ad4910a511828619915904": {
          "model_module": "jupyter-leaflet",
          "model_name": "LeafletDivIconModel",
          "model_module_version": "^0.19",
          "state": {
            "_model_module": "jupyter-leaflet",
            "_model_module_version": "^0.19",
            "_model_name": "LeafletDivIconModel",
            "_view_count": null,
            "_view_module": "jupyter-leaflet",
            "_view_module_version": "^0.19",
            "_view_name": "LeafletDivIconView",
            "base": false,
            "bg_pos": [
              0,
              0
            ],
            "bottom": false,
            "html": "<div style=\"font-size: 6pt;color:white;font-family:arial;font-weight: normal\">Tungurahua</div>",
            "icon_anchor": [
              6,
              6
            ],
            "icon_size": [
              1,
              1
            ],
            "name": "",
            "options": [
              "bg_pos",
              "html",
              "icon_anchor",
              "icon_size",
              "popup_anchor"
            ],
            "pane": "",
            "popup": null,
            "popup_anchor": [
              0,
              0
            ],
            "popup_max_height": null,
            "popup_max_width": 300,
            "popup_min_width": 50,
            "subitems": []
          }
        },
        "b5ab0685bdad470188e4421298b3ca9a": {
          "model_module": "jupyter-leaflet",
          "model_name": "LeafletDivIconModel",
          "model_module_version": "^0.19",
          "state": {
            "_model_module": "jupyter-leaflet",
            "_model_module_version": "^0.19",
            "_model_name": "LeafletDivIconModel",
            "_view_count": null,
            "_view_module": "jupyter-leaflet",
            "_view_module_version": "^0.19",
            "_view_name": "LeafletDivIconView",
            "base": false,
            "bg_pos": [
              0,
              0
            ],
            "bottom": false,
            "html": "<div style=\"font-size: 6pt;color:white;font-family:arial;font-weight: normal\">Zamora Chinchipe</div>",
            "icon_anchor": [
              6,
              6
            ],
            "icon_size": [
              1,
              1
            ],
            "name": "",
            "options": [
              "bg_pos",
              "html",
              "icon_anchor",
              "icon_size",
              "popup_anchor"
            ],
            "pane": "",
            "popup": null,
            "popup_anchor": [
              0,
              0
            ],
            "popup_max_height": null,
            "popup_max_width": 300,
            "popup_min_width": 50,
            "subitems": []
          }
        },
        "158a9df85e2448fda3a515d84ef807a3": {
          "model_module": "jupyter-leaflet",
          "model_name": "LeafletDivIconModel",
          "model_module_version": "^0.19",
          "state": {
            "_model_module": "jupyter-leaflet",
            "_model_module_version": "^0.19",
            "_model_name": "LeafletDivIconModel",
            "_view_count": null,
            "_view_module": "jupyter-leaflet",
            "_view_module_version": "^0.19",
            "_view_name": "LeafletDivIconView",
            "base": false,
            "bg_pos": [
              0,
              0
            ],
            "bottom": false,
            "html": "<div style=\"font-size: 6pt;color:white;font-family:arial;font-weight: normal\">Zona No Delimitada</div>",
            "icon_anchor": [
              6,
              6
            ],
            "icon_size": [
              1,
              1
            ],
            "name": "",
            "options": [
              "bg_pos",
              "html",
              "icon_anchor",
              "icon_size",
              "popup_anchor"
            ],
            "pane": "",
            "popup": null,
            "popup_anchor": [
              0,
              0
            ],
            "popup_max_height": null,
            "popup_max_width": 300,
            "popup_min_width": 50,
            "subitems": []
          }
        },
        "b925a15281ef47629ab36558d6dfdc54": {
          "model_module": "jupyter-leaflet",
          "model_name": "LeafletDivIconModel",
          "model_module_version": "^0.19",
          "state": {
            "_model_module": "jupyter-leaflet",
            "_model_module_version": "^0.19",
            "_model_name": "LeafletDivIconModel",
            "_view_count": null,
            "_view_module": "jupyter-leaflet",
            "_view_module_version": "^0.19",
            "_view_name": "LeafletDivIconView",
            "base": false,
            "bg_pos": [
              0,
              0
            ],
            "bottom": false,
            "html": "<div style=\"font-size: 12pt;color:white;font-family:arial;font-weight: normal\">Ecuador</div>",
            "icon_anchor": [
              12,
              12
            ],
            "icon_size": [
              1,
              1
            ],
            "name": "",
            "options": [
              "bg_pos",
              "html",
              "icon_anchor",
              "icon_size",
              "popup_anchor"
            ],
            "pane": "",
            "popup": null,
            "popup_anchor": [
              0,
              0
            ],
            "popup_max_height": null,
            "popup_max_width": 300,
            "popup_min_width": 50,
            "subitems": []
          }
        },
        "6b94e66890ee4256b68769e5edf55ef5": {
          "model_module": "@jupyter-widgets/base",
          "model_name": "LayoutModel",
          "model_module_version": "1.2.0",
          "state": {
            "_model_module": "@jupyter-widgets/base",
            "_model_module_version": "1.2.0",
            "_model_name": "LayoutModel",
            "_view_count": null,
            "_view_module": "@jupyter-widgets/base",
            "_view_module_version": "1.2.0",
            "_view_name": "LayoutView",
            "align_content": null,
            "align_items": null,
            "align_self": null,
            "border": null,
            "bottom": null,
            "display": null,
            "flex": null,
            "flex_flow": null,
            "grid_area": null,
            "grid_auto_columns": null,
            "grid_auto_flow": null,
            "grid_auto_rows": null,
            "grid_column": null,
            "grid_gap": null,
            "grid_row": null,
            "grid_template_areas": null,
            "grid_template_columns": null,
            "grid_template_rows": null,
            "height": "28px",
            "justify_content": null,
            "justify_items": null,
            "left": null,
            "margin": null,
            "max_height": null,
            "max_width": null,
            "min_height": null,
            "min_width": null,
            "object_fit": null,
            "object_position": null,
            "order": null,
            "overflow": null,
            "overflow_x": null,
            "overflow_y": null,
            "padding": "0px 0px 0px 4px",
            "right": null,
            "top": null,
            "visibility": null,
            "width": "28px"
          }
        },
        "1c7140d9fc034d02a167cdd5169bce1b": {
          "model_module": "@jupyter-widgets/controls",
          "model_name": "DescriptionStyleModel",
          "model_module_version": "1.5.0",
          "state": {
            "_model_module": "@jupyter-widgets/controls",
            "_model_module_version": "1.5.0",
            "_model_name": "DescriptionStyleModel",
            "_view_count": null,
            "_view_module": "@jupyter-widgets/base",
            "_view_module_version": "1.2.0",
            "_view_name": "StyleView",
            "description_width": ""
          }
        },
        "18872d7769dd4207b93f10ef8a0ff0f0": {
          "model_module": "@jupyter-widgets/base",
          "model_name": "LayoutModel",
          "model_module_version": "1.2.0",
          "state": {
            "_model_module": "@jupyter-widgets/base",
            "_model_module_version": "1.2.0",
            "_model_name": "LayoutModel",
            "_view_count": null,
            "_view_module": "@jupyter-widgets/base",
            "_view_module_version": "1.2.0",
            "_view_name": "LayoutView",
            "align_content": null,
            "align_items": null,
            "align_self": null,
            "border": null,
            "bottom": null,
            "display": null,
            "flex": null,
            "flex_flow": null,
            "grid_area": null,
            "grid_auto_columns": null,
            "grid_auto_flow": null,
            "grid_auto_rows": null,
            "grid_column": null,
            "grid_gap": null,
            "grid_row": null,
            "grid_template_areas": null,
            "grid_template_columns": null,
            "grid_template_rows": null,
            "height": "28px",
            "justify_content": null,
            "justify_items": null,
            "left": null,
            "margin": null,
            "max_height": null,
            "max_width": null,
            "min_height": null,
            "min_width": null,
            "object_fit": null,
            "object_position": null,
            "order": null,
            "overflow": null,
            "overflow_x": null,
            "overflow_y": null,
            "padding": "0px 0px 0px 4px",
            "right": null,
            "top": null,
            "visibility": null,
            "width": "28px"
          }
        },
        "882fa1f17bed4aa1a6490339549eed67": {
          "model_module": "@jupyter-widgets/controls",
          "model_name": "DescriptionStyleModel",
          "model_module_version": "1.5.0",
          "state": {
            "_model_module": "@jupyter-widgets/controls",
            "_model_module_version": "1.5.0",
            "_model_name": "DescriptionStyleModel",
            "_view_count": null,
            "_view_module": "@jupyter-widgets/base",
            "_view_module_version": "1.2.0",
            "_view_name": "StyleView",
            "description_width": ""
          }
        },
        "ed3a3a51624f4f74985aef8705972d75": {
          "model_module": "jupyter-leaflet",
          "model_name": "LeafletMapModel",
          "model_module_version": "^0.19",
          "state": {
            "_dom_classes": [],
            "_model_module": "jupyter-leaflet",
            "_model_module_version": "^0.19",
            "_model_name": "LeafletMapModel",
            "_view_count": null,
            "_view_module": "jupyter-leaflet",
            "_view_module_version": "^0.19",
            "_view_name": "LeafletMapView",
            "bottom": 33329,
            "bounce_at_zoom_limits": true,
            "box_zoom": true,
            "center": [
              -1.4328003721031835,
              -78.76612016462707
            ],
            "close_popup_on_click": true,
            "controls": [
              "IPY_MODEL_3140aeac381849e2a096c51c9336b564",
              "IPY_MODEL_495561c2e8d84e8b9d9be2c39ebf9708",
              "IPY_MODEL_e52fcea58c624f098829a0690c17f680",
              "IPY_MODEL_e09273dd8c934a0eadd984fc621aad1a",
              "IPY_MODEL_0bb06c5fb67a45aaa5dd22ed467849b4",
              "IPY_MODEL_03240b2d6fad4c3aa37c9f626edd370f",
              "IPY_MODEL_7b067aeb80ae44c6b5a5019fd3951ce4",
              "IPY_MODEL_c0984c5d6ccd4114a3ce483e99bf8bc0"
            ],
            "crs": {
              "name": "EPSG3857",
              "custom": false
            },
            "default_style": "IPY_MODEL_11356028eb064edfa283f0051837af34",
            "double_click_zoom": true,
            "dragging": true,
            "dragging_style": "IPY_MODEL_3416438c30364f638c0924cc1782891b",
            "east": -74.71801757812501,
            "fullscreen": false,
            "inertia": true,
            "inertia_deceleration": 3000,
            "inertia_max_speed": 1500,
            "interpolation": "bilinear",
            "keyboard": true,
            "keyboard_pan_offset": 80,
            "keyboard_zoom_offset": 1,
            "layers": [
              "IPY_MODEL_92b2c024b4604d97b7923aa29047803e",
              "IPY_MODEL_050cf51c90ee48ee944c081bfc2ea9ce",
              "IPY_MODEL_87489a55db2b47c9aa1b5acc1aba704e",
              "IPY_MODEL_9a1ba0ee7c434d00a3808fe231c05dbb",
              "IPY_MODEL_441b456f4fb5403ea7a70cf6cf00ab90"
            ],
            "layout": "IPY_MODEL_a1d1f16f82db4384a88f522ce127607a",
            "left": 17693,
            "max_zoom": 24,
            "min_zoom": null,
            "modisdate": "2025-06-10",
            "north": 0.21423289925023814,
            "options": [
              "bounce_at_zoom_limits",
              "box_zoom",
              "center",
              "close_popup_on_click",
              "double_click_zoom",
              "dragging",
              "fullscreen",
              "inertia",
              "inertia_deceleration",
              "inertia_max_speed",
              "interpolation",
              "keyboard",
              "keyboard_pan_offset",
              "keyboard_zoom_offset",
              "max_zoom",
              "min_zoom",
              "prefer_canvas",
              "scroll_wheel_zoom",
              "tap",
              "tap_tolerance",
              "touch_zoom",
              "world_copy_jump",
              "zoom",
              "zoom_animation_threshold",
              "zoom_delta",
              "zoom_snap"
            ],
            "panes": {},
            "prefer_canvas": false,
            "right": 19166,
            "scroll_wheel_zoom": true,
            "south": -3.080180314674524,
            "style": "IPY_MODEL_9e71585fa1d548aa9514c6385aee8592",
            "tap": true,
            "tap_tolerance": 15,
            "top": 32729,
            "touch_zoom": true,
            "west": -82.80944824218751,
            "window_url": "https://3cn51luicv4-496ff2e9c6d22116-0-colab.googleusercontent.com/outputframe.html?vrz=colab_20250610-060103_RC00_769563773",
            "world_copy_jump": false,
            "zoom": 8,
            "zoom_animation_threshold": 4,
            "zoom_delta": 1,
            "zoom_snap": 1
          }
        },
        "3140aeac381849e2a096c51c9336b564": {
          "model_module": "jupyter-leaflet",
          "model_name": "LeafletWidgetControlModel",
          "model_module_version": "^0.19",
          "state": {
            "_model_module": "jupyter-leaflet",
            "_model_module_version": "^0.19",
            "_model_name": "LeafletWidgetControlModel",
            "_view_count": null,
            "_view_module": "jupyter-leaflet",
            "_view_module_version": "^0.19",
            "_view_name": "LeafletWidgetControlView",
            "max_height": null,
            "max_width": null,
            "min_height": null,
            "min_width": null,
            "options": [
              "position",
              "transparent_bg"
            ],
            "position": "topleft",
            "transparent_bg": false,
            "widget": "IPY_MODEL_10e9f4681be34a73bfe0a2fc079b1e1f"
          }
        },
        "495561c2e8d84e8b9d9be2c39ebf9708": {
          "model_module": "jupyter-leaflet",
          "model_name": "LeafletZoomControlModel",
          "model_module_version": "^0.19",
          "state": {
            "_model_module": "jupyter-leaflet",
            "_model_module_version": "^0.19",
            "_model_name": "LeafletZoomControlModel",
            "_view_count": null,
            "_view_module": "jupyter-leaflet",
            "_view_module_version": "^0.19",
            "_view_name": "LeafletZoomControlView",
            "options": [
              "position",
              "zoom_in_text",
              "zoom_in_title",
              "zoom_out_text",
              "zoom_out_title"
            ],
            "position": "topleft",
            "zoom_in_text": "+",
            "zoom_in_title": "Zoom in",
            "zoom_out_text": "-",
            "zoom_out_title": "Zoom out"
          }
        },
        "e52fcea58c624f098829a0690c17f680": {
          "model_module": "jupyter-leaflet",
          "model_name": "LeafletScaleControlModel",
          "model_module_version": "^0.19",
          "state": {
            "_model_module": "jupyter-leaflet",
            "_model_module_version": "^0.19",
            "_model_name": "LeafletScaleControlModel",
            "_view_count": null,
            "_view_module": "jupyter-leaflet",
            "_view_module_version": "^0.19",
            "_view_name": "LeafletScaleControlView",
            "imperial": true,
            "max_width": 100,
            "metric": true,
            "options": [
              "imperial",
              "max_width",
              "metric",
              "position",
              "update_when_idle"
            ],
            "position": "bottomleft",
            "update_when_idle": false
          }
        },
        "e09273dd8c934a0eadd984fc621aad1a": {
          "model_module": "jupyter-leaflet",
          "model_name": "LeafletFullScreenControlModel",
          "model_module_version": "^0.19",
          "state": {
            "_model_module": "jupyter-leaflet",
            "_model_module_version": "^0.19",
            "_model_name": "LeafletFullScreenControlModel",
            "_view_count": null,
            "_view_module": "jupyter-leaflet",
            "_view_module_version": "^0.19",
            "_view_name": "LeafletFullScreenControlView",
            "options": [
              "position"
            ],
            "position": "topleft"
          }
        },
        "0bb06c5fb67a45aaa5dd22ed467849b4": {
          "model_module": "jupyter-leaflet",
          "model_name": "LeafletMeasureControlModel",
          "model_module_version": "^0.19",
          "state": {
            "_custom_units": {},
            "_model_module": "jupyter-leaflet",
            "_model_module_version": "^0.19",
            "_model_name": "LeafletMeasureControlModel",
            "_view_count": null,
            "_view_module": "jupyter-leaflet",
            "_view_module_version": "^0.19",
            "_view_name": "LeafletMeasureControlView",
            "active_color": "orange",
            "capture_z_index": 10000,
            "completed_color": "#C8F2BE",
            "options": [
              "active_color",
              "capture_z_index",
              "completed_color",
              "popup_options",
              "position",
              "primary_area_unit",
              "primary_length_unit",
              "secondary_area_unit",
              "secondary_length_unit"
            ],
            "popup_options": {
              "className": "leaflet-measure-resultpopup",
              "autoPanPadding": [
                10,
                10
              ]
            },
            "position": "bottomleft",
            "primary_area_unit": "acres",
            "primary_length_unit": "kilometers",
            "secondary_area_unit": null,
            "secondary_length_unit": null
          }
        },
        "03240b2d6fad4c3aa37c9f626edd370f": {
          "model_module": "jupyter-leaflet",
          "model_name": "LeafletAttributionControlModel",
          "model_module_version": "^0.19",
          "state": {
            "_model_module": "jupyter-leaflet",
            "_model_module_version": "^0.19",
            "_model_name": "LeafletAttributionControlModel",
            "_view_count": null,
            "_view_module": "jupyter-leaflet",
            "_view_module_version": "^0.19",
            "_view_name": "LeafletAttributionControlView",
            "options": [
              "position",
              "prefix"
            ],
            "position": "bottomright",
            "prefix": "ipyleaflet"
          }
        },
        "7b067aeb80ae44c6b5a5019fd3951ce4": {
          "model_module": "jupyter-leaflet",
          "model_name": "LeafletDrawControlModel",
          "model_module_version": "^0.19",
          "state": {
            "_model_module": "jupyter-leaflet",
            "_model_module_version": "^0.19",
            "_model_name": "LeafletDrawControlModel",
            "_view_count": null,
            "_view_module": "jupyter-leaflet",
            "_view_module_version": "^0.19",
            "_view_name": "LeafletDrawControlView",
            "circle": {
              "shapeOptions": {
                "color": "#3388ff"
              }
            },
            "circlemarker": {},
            "data": [],
            "edit": true,
            "marker": {
              "shapeOptions": {
                "color": "#3388ff"
              }
            },
            "options": [
              "position"
            ],
            "polygon": {
              "shapeOptions": {}
            },
            "polyline": {
              "shapeOptions": {}
            },
            "position": "topleft",
            "rectangle": {
              "shapeOptions": {
                "color": "#3388ff"
              }
            },
            "remove": true
          }
        },
        "c0984c5d6ccd4114a3ce483e99bf8bc0": {
          "model_module": "jupyter-leaflet",
          "model_name": "LeafletWidgetControlModel",
          "model_module_version": "^0.19",
          "state": {
            "_model_module": "jupyter-leaflet",
            "_model_module_version": "^0.19",
            "_model_name": "LeafletWidgetControlModel",
            "_view_count": null,
            "_view_module": "jupyter-leaflet",
            "_view_module_version": "^0.19",
            "_view_name": "LeafletWidgetControlView",
            "max_height": null,
            "max_width": null,
            "min_height": null,
            "min_width": null,
            "options": [
              "position",
              "transparent_bg"
            ],
            "position": "topright",
            "transparent_bg": false,
            "widget": "IPY_MODEL_c5c3f9bc215c4641a84a79da46fc4056"
          }
        },
        "11356028eb064edfa283f0051837af34": {
          "model_module": "jupyter-leaflet",
          "model_name": "LeafletMapStyleModel",
          "model_module_version": "^0.19",
          "state": {
            "_model_module": "jupyter-leaflet",
            "_model_module_version": "^0.19",
            "_model_name": "LeafletMapStyleModel",
            "_view_count": null,
            "_view_module": "@jupyter-widgets/base",
            "_view_module_version": "1.2.0",
            "_view_name": "StyleView",
            "cursor": "grab"
          }
        },
        "3416438c30364f638c0924cc1782891b": {
          "model_module": "jupyter-leaflet",
          "model_name": "LeafletMapStyleModel",
          "model_module_version": "^0.19",
          "state": {
            "_model_module": "jupyter-leaflet",
            "_model_module_version": "^0.19",
            "_model_name": "LeafletMapStyleModel",
            "_view_count": null,
            "_view_module": "@jupyter-widgets/base",
            "_view_module_version": "1.2.0",
            "_view_name": "StyleView",
            "cursor": "move"
          }
        },
        "92b2c024b4604d97b7923aa29047803e": {
          "model_module": "jupyter-leaflet",
          "model_name": "LeafletTileLayerModel",
          "model_module_version": "^0.19",
          "state": {
            "_model_module": "jupyter-leaflet",
            "_model_module_version": "^0.19",
            "_model_name": "LeafletTileLayerModel",
            "_view_count": null,
            "_view_module": "jupyter-leaflet",
            "_view_module_version": "^0.19",
            "_view_name": "LeafletTileLayerView",
            "attribution": "&copy; <a href=\"https://www.openstreetmap.org/copyright\">OpenStreetMap</a> contributors",
            "base": true,
            "bottom": true,
            "bounds": null,
            "detect_retina": false,
            "loading": false,
            "max_native_zoom": null,
            "max_zoom": 19,
            "min_native_zoom": null,
            "min_zoom": 1,
            "name": "OpenStreetMap.Mapnik",
            "no_wrap": false,
            "opacity": 1,
            "options": [
              "attribution",
              "bounds",
              "detect_retina",
              "max_native_zoom",
              "max_zoom",
              "min_native_zoom",
              "min_zoom",
              "no_wrap",
              "tile_size",
              "tms",
              "zoom_offset"
            ],
            "pane": "",
            "popup": null,
            "popup_max_height": null,
            "popup_max_width": 300,
            "popup_min_width": 50,
            "show_loading": false,
            "subitems": [],
            "tile_size": 256,
            "tms": false,
            "url": "https://tile.openstreetmap.org/{z}/{x}/{y}.png",
            "visible": true,
            "zoom_offset": 0
          }
        },
        "9a1ba0ee7c434d00a3808fe231c05dbb": {
          "model_module": "jupyter-leaflet",
          "model_name": "LeafletTileLayerModel",
          "model_module_version": "^0.19",
          "state": {
            "_model_module": "jupyter-leaflet",
            "_model_module_version": "^0.19",
            "_model_name": "LeafletTileLayerModel",
            "_view_count": null,
            "_view_module": "jupyter-leaflet",
            "_view_module_version": "^0.19",
            "_view_name": "LeafletTileLayerView",
            "attribution": "Google Earth Engine",
            "base": false,
            "bottom": true,
            "bounds": null,
            "detect_retina": false,
            "loading": false,
            "max_native_zoom": null,
            "max_zoom": 24,
            "min_native_zoom": null,
            "min_zoom": 0,
            "name": "States",
            "no_wrap": false,
            "opacity": 1,
            "options": [
              "attribution",
              "bounds",
              "detect_retina",
              "max_native_zoom",
              "max_zoom",
              "min_native_zoom",
              "min_zoom",
              "no_wrap",
              "tile_size",
              "tms",
              "zoom_offset"
            ],
            "pane": "",
            "popup": null,
            "popup_max_height": null,
            "popup_max_width": 300,
            "popup_min_width": 50,
            "show_loading": false,
            "subitems": [],
            "tile_size": 256,
            "tms": false,
            "url": "https://earthengine.googleapis.com/v1/projects/murphys-deforisk/maps/062c4300b871e9bfbbb4f968e202f09c-628f4ff79ad7e1125187ed493f9a12ff/tiles/{z}/{x}/{y}",
            "visible": true,
            "zoom_offset": 0
          }
        },
        "441b456f4fb5403ea7a70cf6cf00ab90": {
          "model_module": "jupyter-leaflet",
          "model_name": "LeafletTileLayerModel",
          "model_module_version": "^0.19",
          "state": {
            "_model_module": "jupyter-leaflet",
            "_model_module_version": "^0.19",
            "_model_name": "LeafletTileLayerModel",
            "_view_count": null,
            "_view_module": "jupyter-leaflet",
            "_view_module_version": "^0.19",
            "_view_name": "LeafletTileLayerView",
            "attribution": "Google Earth Engine",
            "base": false,
            "bottom": true,
            "bounds": null,
            "detect_retina": false,
            "loading": false,
            "max_native_zoom": null,
            "max_zoom": 24,
            "min_native_zoom": null,
            "min_zoom": 0,
            "name": "Burned Area",
            "no_wrap": false,
            "opacity": 1,
            "options": [
              "attribution",
              "bounds",
              "detect_retina",
              "max_native_zoom",
              "max_zoom",
              "min_native_zoom",
              "min_zoom",
              "no_wrap",
              "tile_size",
              "tms",
              "zoom_offset"
            ],
            "pane": "",
            "popup": null,
            "popup_max_height": null,
            "popup_max_width": 300,
            "popup_min_width": 50,
            "show_loading": false,
            "subitems": [],
            "tile_size": 256,
            "tms": false,
            "url": "https://earthengine.googleapis.com/v1/projects/murphys-deforisk/maps/471d12b9727185e6b84bcc40bf3a25e3-9981600d0f2689f4d7d1198676746051/tiles/{z}/{x}/{y}",
            "visible": true,
            "zoom_offset": 0
          }
        },
        "a1d1f16f82db4384a88f522ce127607a": {
          "model_module": "@jupyter-widgets/base",
          "model_name": "LayoutModel",
          "model_module_version": "1.2.0",
          "state": {
            "_model_module": "@jupyter-widgets/base",
            "_model_module_version": "1.2.0",
            "_model_name": "LayoutModel",
            "_view_count": null,
            "_view_module": "@jupyter-widgets/base",
            "_view_module_version": "1.2.0",
            "_view_name": "LayoutView",
            "align_content": null,
            "align_items": null,
            "align_self": null,
            "border": null,
            "bottom": null,
            "display": null,
            "flex": null,
            "flex_flow": null,
            "grid_area": null,
            "grid_auto_columns": null,
            "grid_auto_flow": null,
            "grid_auto_rows": null,
            "grid_column": null,
            "grid_gap": null,
            "grid_row": null,
            "grid_template_areas": null,
            "grid_template_columns": null,
            "grid_template_rows": null,
            "height": "600px",
            "justify_content": null,
            "justify_items": null,
            "left": null,
            "margin": null,
            "max_height": null,
            "max_width": null,
            "min_height": null,
            "min_width": null,
            "object_fit": null,
            "object_position": null,
            "order": null,
            "overflow": null,
            "overflow_x": null,
            "overflow_y": null,
            "padding": null,
            "right": null,
            "top": null,
            "visibility": null,
            "width": null
          }
        },
        "9e71585fa1d548aa9514c6385aee8592": {
          "model_module": "jupyter-leaflet",
          "model_name": "LeafletMapStyleModel",
          "model_module_version": "^0.19",
          "state": {
            "_model_module": "jupyter-leaflet",
            "_model_module_version": "^0.19",
            "_model_name": "LeafletMapStyleModel",
            "_view_count": null,
            "_view_module": "@jupyter-widgets/base",
            "_view_module_version": "1.2.0",
            "_view_name": "StyleView",
            "cursor": "grab"
          }
        },
        "10e9f4681be34a73bfe0a2fc079b1e1f": {
          "model_module": "@jupyter-widgets/controls",
          "model_name": "HBoxModel",
          "model_module_version": "1.5.0",
          "state": {
            "_dom_classes": [],
            "_model_module": "@jupyter-widgets/controls",
            "_model_module_version": "1.5.0",
            "_model_name": "HBoxModel",
            "_view_count": null,
            "_view_module": "@jupyter-widgets/controls",
            "_view_module_version": "1.5.0",
            "_view_name": "HBoxView",
            "box_style": "",
            "children": [
              "IPY_MODEL_14670b79aa6c49df9a37a99ab8512fff"
            ],
            "layout": "IPY_MODEL_f223f0e461574b4693d3ea99f8cb11be"
          }
        },
        "c5c3f9bc215c4641a84a79da46fc4056": {
          "model_module": "@jupyter-widgets/controls",
          "model_name": "VBoxModel",
          "model_module_version": "1.5.0",
          "state": {
            "_dom_classes": [],
            "_model_module": "@jupyter-widgets/controls",
            "_model_module_version": "1.5.0",
            "_model_name": "VBoxModel",
            "_view_count": null,
            "_view_module": "@jupyter-widgets/controls",
            "_view_module_version": "1.5.0",
            "_view_name": "VBoxView",
            "box_style": "",
            "children": [
              "IPY_MODEL_91da6428b64d4a489192fc7310d4c020"
            ],
            "layout": "IPY_MODEL_f1e0b32b7dc747d0be9d073ab0baae89"
          }
        },
        "14670b79aa6c49df9a37a99ab8512fff": {
          "model_module": "@jupyter-widgets/controls",
          "model_name": "ToggleButtonModel",
          "model_module_version": "1.5.0",
          "state": {
            "_dom_classes": [],
            "_model_module": "@jupyter-widgets/controls",
            "_model_module_version": "1.5.0",
            "_model_name": "ToggleButtonModel",
            "_view_count": null,
            "_view_module": "@jupyter-widgets/controls",
            "_view_module_version": "1.5.0",
            "_view_name": "ToggleButtonView",
            "button_style": "",
            "description": "",
            "description_tooltip": null,
            "disabled": false,
            "icon": "globe",
            "layout": "IPY_MODEL_db46f5cdf057456c96f8a30b38ef3c2b",
            "style": "IPY_MODEL_c971fac71f0b49d6bcea2abbcc08827b",
            "tooltip": "Search location/data",
            "value": false
          }
        },
        "f223f0e461574b4693d3ea99f8cb11be": {
          "model_module": "@jupyter-widgets/base",
          "model_name": "LayoutModel",
          "model_module_version": "1.2.0",
          "state": {
            "_model_module": "@jupyter-widgets/base",
            "_model_module_version": "1.2.0",
            "_model_name": "LayoutModel",
            "_view_count": null,
            "_view_module": "@jupyter-widgets/base",
            "_view_module_version": "1.2.0",
            "_view_name": "LayoutView",
            "align_content": null,
            "align_items": null,
            "align_self": null,
            "border": null,
            "bottom": null,
            "display": null,
            "flex": null,
            "flex_flow": null,
            "grid_area": null,
            "grid_auto_columns": null,
            "grid_auto_flow": null,
            "grid_auto_rows": null,
            "grid_column": null,
            "grid_gap": null,
            "grid_row": null,
            "grid_template_areas": null,
            "grid_template_columns": null,
            "grid_template_rows": null,
            "height": null,
            "justify_content": null,
            "justify_items": null,
            "left": null,
            "margin": null,
            "max_height": null,
            "max_width": null,
            "min_height": null,
            "min_width": null,
            "object_fit": null,
            "object_position": null,
            "order": null,
            "overflow": null,
            "overflow_x": null,
            "overflow_y": null,
            "padding": null,
            "right": null,
            "top": null,
            "visibility": null,
            "width": null
          }
        },
        "91da6428b64d4a489192fc7310d4c020": {
          "model_module": "@jupyter-widgets/controls",
          "model_name": "ToggleButtonModel",
          "model_module_version": "1.5.0",
          "state": {
            "_dom_classes": [],
            "_model_module": "@jupyter-widgets/controls",
            "_model_module_version": "1.5.0",
            "_model_name": "ToggleButtonModel",
            "_view_count": null,
            "_view_module": "@jupyter-widgets/controls",
            "_view_module_version": "1.5.0",
            "_view_name": "ToggleButtonView",
            "button_style": "",
            "description": "",
            "description_tooltip": null,
            "disabled": false,
            "icon": "wrench",
            "layout": "IPY_MODEL_39ad6d022ac345bfb1cd7815a0276ab9",
            "style": "IPY_MODEL_e51fb9e366c440d69ec0fc15da4ee024",
            "tooltip": "Toolbar",
            "value": false
          }
        },
        "f1e0b32b7dc747d0be9d073ab0baae89": {
          "model_module": "@jupyter-widgets/base",
          "model_name": "LayoutModel",
          "model_module_version": "1.2.0",
          "state": {
            "_model_module": "@jupyter-widgets/base",
            "_model_module_version": "1.2.0",
            "_model_name": "LayoutModel",
            "_view_count": null,
            "_view_module": "@jupyter-widgets/base",
            "_view_module_version": "1.2.0",
            "_view_name": "LayoutView",
            "align_content": null,
            "align_items": null,
            "align_self": null,
            "border": null,
            "bottom": null,
            "display": null,
            "flex": null,
            "flex_flow": null,
            "grid_area": null,
            "grid_auto_columns": null,
            "grid_auto_flow": null,
            "grid_auto_rows": null,
            "grid_column": null,
            "grid_gap": null,
            "grid_row": null,
            "grid_template_areas": null,
            "grid_template_columns": null,
            "grid_template_rows": null,
            "height": null,
            "justify_content": null,
            "justify_items": null,
            "left": null,
            "margin": null,
            "max_height": null,
            "max_width": null,
            "min_height": null,
            "min_width": null,
            "object_fit": null,
            "object_position": null,
            "order": null,
            "overflow": null,
            "overflow_x": null,
            "overflow_y": null,
            "padding": null,
            "right": null,
            "top": null,
            "visibility": null,
            "width": null
          }
        },
        "db46f5cdf057456c96f8a30b38ef3c2b": {
          "model_module": "@jupyter-widgets/base",
          "model_name": "LayoutModel",
          "model_module_version": "1.2.0",
          "state": {
            "_model_module": "@jupyter-widgets/base",
            "_model_module_version": "1.2.0",
            "_model_name": "LayoutModel",
            "_view_count": null,
            "_view_module": "@jupyter-widgets/base",
            "_view_module_version": "1.2.0",
            "_view_name": "LayoutView",
            "align_content": null,
            "align_items": null,
            "align_self": null,
            "border": null,
            "bottom": null,
            "display": null,
            "flex": null,
            "flex_flow": null,
            "grid_area": null,
            "grid_auto_columns": null,
            "grid_auto_flow": null,
            "grid_auto_rows": null,
            "grid_column": null,
            "grid_gap": null,
            "grid_row": null,
            "grid_template_areas": null,
            "grid_template_columns": null,
            "grid_template_rows": null,
            "height": "28px",
            "justify_content": null,
            "justify_items": null,
            "left": null,
            "margin": null,
            "max_height": null,
            "max_width": null,
            "min_height": null,
            "min_width": null,
            "object_fit": null,
            "object_position": null,
            "order": null,
            "overflow": null,
            "overflow_x": null,
            "overflow_y": null,
            "padding": "0px 0px 0px 4px",
            "right": null,
            "top": null,
            "visibility": null,
            "width": "28px"
          }
        },
        "c971fac71f0b49d6bcea2abbcc08827b": {
          "model_module": "@jupyter-widgets/controls",
          "model_name": "DescriptionStyleModel",
          "model_module_version": "1.5.0",
          "state": {
            "_model_module": "@jupyter-widgets/controls",
            "_model_module_version": "1.5.0",
            "_model_name": "DescriptionStyleModel",
            "_view_count": null,
            "_view_module": "@jupyter-widgets/base",
            "_view_module_version": "1.2.0",
            "_view_name": "StyleView",
            "description_width": ""
          }
        },
        "39ad6d022ac345bfb1cd7815a0276ab9": {
          "model_module": "@jupyter-widgets/base",
          "model_name": "LayoutModel",
          "model_module_version": "1.2.0",
          "state": {
            "_model_module": "@jupyter-widgets/base",
            "_model_module_version": "1.2.0",
            "_model_name": "LayoutModel",
            "_view_count": null,
            "_view_module": "@jupyter-widgets/base",
            "_view_module_version": "1.2.0",
            "_view_name": "LayoutView",
            "align_content": null,
            "align_items": null,
            "align_self": null,
            "border": null,
            "bottom": null,
            "display": null,
            "flex": null,
            "flex_flow": null,
            "grid_area": null,
            "grid_auto_columns": null,
            "grid_auto_flow": null,
            "grid_auto_rows": null,
            "grid_column": null,
            "grid_gap": null,
            "grid_row": null,
            "grid_template_areas": null,
            "grid_template_columns": null,
            "grid_template_rows": null,
            "height": "28px",
            "justify_content": null,
            "justify_items": null,
            "left": null,
            "margin": null,
            "max_height": null,
            "max_width": null,
            "min_height": null,
            "min_width": null,
            "object_fit": null,
            "object_position": null,
            "order": null,
            "overflow": null,
            "overflow_x": null,
            "overflow_y": null,
            "padding": "0px 0px 0px 4px",
            "right": null,
            "top": null,
            "visibility": null,
            "width": "28px"
          }
        },
        "e51fb9e366c440d69ec0fc15da4ee024": {
          "model_module": "@jupyter-widgets/controls",
          "model_name": "DescriptionStyleModel",
          "model_module_version": "1.5.0",
          "state": {
            "_model_module": "@jupyter-widgets/controls",
            "_model_module_version": "1.5.0",
            "_model_name": "DescriptionStyleModel",
            "_view_count": null,
            "_view_module": "@jupyter-widgets/base",
            "_view_module_version": "1.2.0",
            "_view_name": "StyleView",
            "description_width": ""
          }
        },
        "1ec7170650e144b0a7ebc79b35a26a67": {
          "model_module": "jupyter-leaflet",
          "model_name": "LeafletMapModel",
          "model_module_version": "^0.19",
          "state": {
            "_dom_classes": [],
            "_model_module": "jupyter-leaflet",
            "_model_module_version": "^0.19",
            "_model_name": "LeafletMapModel",
            "_view_count": null,
            "_view_module": "jupyter-leaflet",
            "_view_module_version": "^0.19",
            "_view_name": "LeafletMapView",
            "bottom": 16809,
            "bounce_at_zoom_limits": true,
            "box_zoom": true,
            "center": [
              -1.3731595449619909,
              -83.94094088377655
            ],
            "close_popup_on_click": true,
            "controls": [
              "IPY_MODEL_63c654a291ab42bbb028be45527b9f04",
              "IPY_MODEL_76a7c9a8551d480aa7d1c3f29301e4e7",
              "IPY_MODEL_41b434e792f94dcea8304dc23a00b2a0",
              "IPY_MODEL_dee213e2b6a6473782689b0bb64fb4ed",
              "IPY_MODEL_ce3c9e1fbdf4416dba2949f654959703",
              "IPY_MODEL_8a869d02106843bfbb49ccf5ebeee7ae",
              "IPY_MODEL_cf8115f2b01142b5bc169c4f8f39aefb",
              "IPY_MODEL_c272e48f82ee4ec184baee860bbde87c"
            ],
            "crs": {
              "name": "EPSG3857",
              "custom": false
            },
            "default_style": "IPY_MODEL_346600d4629644be898d603ccc2977a6",
            "double_click_zoom": true,
            "dragging": true,
            "dragging_style": "IPY_MODEL_2ee5afd0469442ef80fb19e2f8ac78af",
            "east": -75.84951021971408,
            "fullscreen": false,
            "inertia": true,
            "inertia_deceleration": 3000,
            "inertia_max_speed": 1500,
            "interpolation": "bilinear",
            "keyboard": true,
            "keyboard_pan_offset": 80,
            "keyboard_zoom_offset": 1,
            "layers": [
              "IPY_MODEL_60e56aa1411440d8b40c81d9d33e714b",
              "IPY_MODEL_050cf51c90ee48ee944c081bfc2ea9ce",
              "IPY_MODEL_87489a55db2b47c9aa1b5acc1aba704e",
              "IPY_MODEL_71b1fbefcb01494a823a41f6822d4a1d",
              "IPY_MODEL_14577082f6304f7b99c162278b49604e"
            ],
            "layout": "IPY_MODEL_e20c8a1eb7bf43a0a52bbdb3a1bddf52",
            "left": 8007.009025334472,
            "max_zoom": 24,
            "min_zoom": null,
            "modisdate": "2025-06-10",
            "north": 1.9222467160981036,
            "options": [
              "bounce_at_zoom_limits",
              "box_zoom",
              "center",
              "close_popup_on_click",
              "double_click_zoom",
              "dragging",
              "fullscreen",
              "inertia",
              "inertia_deceleration",
              "inertia_max_speed",
              "interpolation",
              "keyboard",
              "keyboard_pan_offset",
              "keyboard_zoom_offset",
              "max_zoom",
              "min_zoom",
              "prefer_canvas",
              "scroll_wheel_zoom",
              "tap",
              "tap_tolerance",
              "touch_zoom",
              "world_copy_jump",
              "zoom",
              "zoom_animation_threshold",
              "zoom_delta",
              "zoom_snap"
            ],
            "panes": {},
            "prefer_canvas": false,
            "right": 9480.009025334472,
            "scroll_wheel_zoom": true,
            "south": -4.664029951910392,
            "style": "IPY_MODEL_346600d4629644be898d603ccc2977a6",
            "tap": true,
            "tap_tolerance": 15,
            "top": 16209,
            "touch_zoom": true,
            "west": -92.03237154783908,
            "window_url": "https://3cn51luicv4-496ff2e9c6d22116-0-colab.googleusercontent.com/outputframe.html?vrz=colab_20250610-060103_RC00_769563773",
            "world_copy_jump": false,
            "zoom": 7,
            "zoom_animation_threshold": 4,
            "zoom_delta": 1,
            "zoom_snap": 1
          }
        },
        "63c654a291ab42bbb028be45527b9f04": {
          "model_module": "jupyter-leaflet",
          "model_name": "LeafletWidgetControlModel",
          "model_module_version": "^0.19",
          "state": {
            "_model_module": "jupyter-leaflet",
            "_model_module_version": "^0.19",
            "_model_name": "LeafletWidgetControlModel",
            "_view_count": null,
            "_view_module": "jupyter-leaflet",
            "_view_module_version": "^0.19",
            "_view_name": "LeafletWidgetControlView",
            "max_height": null,
            "max_width": null,
            "min_height": null,
            "min_width": null,
            "options": [
              "position",
              "transparent_bg"
            ],
            "position": "topleft",
            "transparent_bg": false,
            "widget": "IPY_MODEL_bbf77fae123a46cd8ad7a021057490ad"
          }
        },
        "76a7c9a8551d480aa7d1c3f29301e4e7": {
          "model_module": "jupyter-leaflet",
          "model_name": "LeafletZoomControlModel",
          "model_module_version": "^0.19",
          "state": {
            "_model_module": "jupyter-leaflet",
            "_model_module_version": "^0.19",
            "_model_name": "LeafletZoomControlModel",
            "_view_count": null,
            "_view_module": "jupyter-leaflet",
            "_view_module_version": "^0.19",
            "_view_name": "LeafletZoomControlView",
            "options": [
              "position",
              "zoom_in_text",
              "zoom_in_title",
              "zoom_out_text",
              "zoom_out_title"
            ],
            "position": "topleft",
            "zoom_in_text": "+",
            "zoom_in_title": "Zoom in",
            "zoom_out_text": "-",
            "zoom_out_title": "Zoom out"
          }
        },
        "41b434e792f94dcea8304dc23a00b2a0": {
          "model_module": "jupyter-leaflet",
          "model_name": "LeafletScaleControlModel",
          "model_module_version": "^0.19",
          "state": {
            "_model_module": "jupyter-leaflet",
            "_model_module_version": "^0.19",
            "_model_name": "LeafletScaleControlModel",
            "_view_count": null,
            "_view_module": "jupyter-leaflet",
            "_view_module_version": "^0.19",
            "_view_name": "LeafletScaleControlView",
            "imperial": true,
            "max_width": 100,
            "metric": true,
            "options": [
              "imperial",
              "max_width",
              "metric",
              "position",
              "update_when_idle"
            ],
            "position": "bottomleft",
            "update_when_idle": false
          }
        },
        "dee213e2b6a6473782689b0bb64fb4ed": {
          "model_module": "jupyter-leaflet",
          "model_name": "LeafletFullScreenControlModel",
          "model_module_version": "^0.19",
          "state": {
            "_model_module": "jupyter-leaflet",
            "_model_module_version": "^0.19",
            "_model_name": "LeafletFullScreenControlModel",
            "_view_count": null,
            "_view_module": "jupyter-leaflet",
            "_view_module_version": "^0.19",
            "_view_name": "LeafletFullScreenControlView",
            "options": [
              "position"
            ],
            "position": "topleft"
          }
        },
        "ce3c9e1fbdf4416dba2949f654959703": {
          "model_module": "jupyter-leaflet",
          "model_name": "LeafletMeasureControlModel",
          "model_module_version": "^0.19",
          "state": {
            "_custom_units": {},
            "_model_module": "jupyter-leaflet",
            "_model_module_version": "^0.19",
            "_model_name": "LeafletMeasureControlModel",
            "_view_count": null,
            "_view_module": "jupyter-leaflet",
            "_view_module_version": "^0.19",
            "_view_name": "LeafletMeasureControlView",
            "active_color": "orange",
            "capture_z_index": 10000,
            "completed_color": "#C8F2BE",
            "options": [
              "active_color",
              "capture_z_index",
              "completed_color",
              "popup_options",
              "position",
              "primary_area_unit",
              "primary_length_unit",
              "secondary_area_unit",
              "secondary_length_unit"
            ],
            "popup_options": {
              "className": "leaflet-measure-resultpopup",
              "autoPanPadding": [
                10,
                10
              ]
            },
            "position": "bottomleft",
            "primary_area_unit": "acres",
            "primary_length_unit": "kilometers",
            "secondary_area_unit": null,
            "secondary_length_unit": null
          }
        },
        "8a869d02106843bfbb49ccf5ebeee7ae": {
          "model_module": "jupyter-leaflet",
          "model_name": "LeafletAttributionControlModel",
          "model_module_version": "^0.19",
          "state": {
            "_model_module": "jupyter-leaflet",
            "_model_module_version": "^0.19",
            "_model_name": "LeafletAttributionControlModel",
            "_view_count": null,
            "_view_module": "jupyter-leaflet",
            "_view_module_version": "^0.19",
            "_view_name": "LeafletAttributionControlView",
            "options": [
              "position",
              "prefix"
            ],
            "position": "bottomright",
            "prefix": "ipyleaflet"
          }
        },
        "cf8115f2b01142b5bc169c4f8f39aefb": {
          "model_module": "jupyter-leaflet",
          "model_name": "LeafletDrawControlModel",
          "model_module_version": "^0.19",
          "state": {
            "_model_module": "jupyter-leaflet",
            "_model_module_version": "^0.19",
            "_model_name": "LeafletDrawControlModel",
            "_view_count": null,
            "_view_module": "jupyter-leaflet",
            "_view_module_version": "^0.19",
            "_view_name": "LeafletDrawControlView",
            "circle": {
              "shapeOptions": {
                "color": "#3388ff"
              }
            },
            "circlemarker": {},
            "data": [],
            "edit": true,
            "marker": {
              "shapeOptions": {
                "color": "#3388ff"
              }
            },
            "options": [
              "position"
            ],
            "polygon": {
              "shapeOptions": {}
            },
            "polyline": {
              "shapeOptions": {}
            },
            "position": "topleft",
            "rectangle": {
              "shapeOptions": {
                "color": "#3388ff"
              }
            },
            "remove": true
          }
        },
        "c272e48f82ee4ec184baee860bbde87c": {
          "model_module": "jupyter-leaflet",
          "model_name": "LeafletWidgetControlModel",
          "model_module_version": "^0.19",
          "state": {
            "_model_module": "jupyter-leaflet",
            "_model_module_version": "^0.19",
            "_model_name": "LeafletWidgetControlModel",
            "_view_count": null,
            "_view_module": "jupyter-leaflet",
            "_view_module_version": "^0.19",
            "_view_name": "LeafletWidgetControlView",
            "max_height": null,
            "max_width": null,
            "min_height": null,
            "min_width": null,
            "options": [
              "position",
              "transparent_bg"
            ],
            "position": "topright",
            "transparent_bg": false,
            "widget": "IPY_MODEL_f8b6f60861864e2a9f1bf5f0096bc042"
          }
        },
        "346600d4629644be898d603ccc2977a6": {
          "model_module": "jupyter-leaflet",
          "model_name": "LeafletMapStyleModel",
          "model_module_version": "^0.19",
          "state": {
            "_model_module": "jupyter-leaflet",
            "_model_module_version": "^0.19",
            "_model_name": "LeafletMapStyleModel",
            "_view_count": null,
            "_view_module": "@jupyter-widgets/base",
            "_view_module_version": "1.2.0",
            "_view_name": "StyleView",
            "cursor": "grab"
          }
        },
        "2ee5afd0469442ef80fb19e2f8ac78af": {
          "model_module": "jupyter-leaflet",
          "model_name": "LeafletMapStyleModel",
          "model_module_version": "^0.19",
          "state": {
            "_model_module": "jupyter-leaflet",
            "_model_module_version": "^0.19",
            "_model_name": "LeafletMapStyleModel",
            "_view_count": null,
            "_view_module": "@jupyter-widgets/base",
            "_view_module_version": "1.2.0",
            "_view_name": "StyleView",
            "cursor": "move"
          }
        },
        "60e56aa1411440d8b40c81d9d33e714b": {
          "model_module": "jupyter-leaflet",
          "model_name": "LeafletTileLayerModel",
          "model_module_version": "^0.19",
          "state": {
            "_model_module": "jupyter-leaflet",
            "_model_module_version": "^0.19",
            "_model_name": "LeafletTileLayerModel",
            "_view_count": null,
            "_view_module": "jupyter-leaflet",
            "_view_module_version": "^0.19",
            "_view_name": "LeafletTileLayerView",
            "attribution": "&copy; <a href=\"https://www.openstreetmap.org/copyright\">OpenStreetMap</a> contributors",
            "base": true,
            "bottom": true,
            "bounds": null,
            "detect_retina": false,
            "loading": false,
            "max_native_zoom": null,
            "max_zoom": 19,
            "min_native_zoom": null,
            "min_zoom": 1,
            "name": "OpenStreetMap.Mapnik",
            "no_wrap": false,
            "opacity": 1,
            "options": [
              "attribution",
              "bounds",
              "detect_retina",
              "max_native_zoom",
              "max_zoom",
              "min_native_zoom",
              "min_zoom",
              "no_wrap",
              "tile_size",
              "tms",
              "zoom_offset"
            ],
            "pane": "",
            "popup": null,
            "popup_max_height": null,
            "popup_max_width": 300,
            "popup_min_width": 50,
            "show_loading": false,
            "subitems": [],
            "tile_size": 256,
            "tms": false,
            "url": "https://tile.openstreetmap.org/{z}/{x}/{y}.png",
            "visible": true,
            "zoom_offset": 0
          }
        },
        "71b1fbefcb01494a823a41f6822d4a1d": {
          "model_module": "jupyter-leaflet",
          "model_name": "LeafletTileLayerModel",
          "model_module_version": "^0.19",
          "state": {
            "_model_module": "jupyter-leaflet",
            "_model_module_version": "^0.19",
            "_model_name": "LeafletTileLayerModel",
            "_view_count": null,
            "_view_module": "jupyter-leaflet",
            "_view_module_version": "^0.19",
            "_view_name": "LeafletTileLayerView",
            "attribution": "Google Earth Engine",
            "base": false,
            "bottom": true,
            "bounds": null,
            "detect_retina": false,
            "loading": false,
            "max_native_zoom": null,
            "max_zoom": 24,
            "min_native_zoom": null,
            "min_zoom": 0,
            "name": "States",
            "no_wrap": false,
            "opacity": 1,
            "options": [
              "attribution",
              "bounds",
              "detect_retina",
              "max_native_zoom",
              "max_zoom",
              "min_native_zoom",
              "min_zoom",
              "no_wrap",
              "tile_size",
              "tms",
              "zoom_offset"
            ],
            "pane": "",
            "popup": null,
            "popup_max_height": null,
            "popup_max_width": 300,
            "popup_min_width": 50,
            "show_loading": false,
            "subitems": [],
            "tile_size": 256,
            "tms": false,
            "url": "https://earthengine.googleapis.com/v1/projects/murphys-deforisk/maps/062c4300b871e9bfbbb4f968e202f09c-3def4900ea0adbe28a5d1780730113c0/tiles/{z}/{x}/{y}",
            "visible": true,
            "zoom_offset": 0
          }
        },
        "14577082f6304f7b99c162278b49604e": {
          "model_module": "jupyter-leaflet",
          "model_name": "LeafletTileLayerModel",
          "model_module_version": "^0.19",
          "state": {
            "_model_module": "jupyter-leaflet",
            "_model_module_version": "^0.19",
            "_model_name": "LeafletTileLayerModel",
            "_view_count": null,
            "_view_module": "jupyter-leaflet",
            "_view_module_version": "^0.19",
            "_view_name": "LeafletTileLayerView",
            "attribution": "Google Earth Engine",
            "base": false,
            "bottom": true,
            "bounds": null,
            "detect_retina": false,
            "loading": false,
            "max_native_zoom": null,
            "max_zoom": 24,
            "min_native_zoom": null,
            "min_zoom": 0,
            "name": "Burned Area",
            "no_wrap": false,
            "opacity": 1,
            "options": [
              "attribution",
              "bounds",
              "detect_retina",
              "max_native_zoom",
              "max_zoom",
              "min_native_zoom",
              "min_zoom",
              "no_wrap",
              "tile_size",
              "tms",
              "zoom_offset"
            ],
            "pane": "",
            "popup": null,
            "popup_max_height": null,
            "popup_max_width": 300,
            "popup_min_width": 50,
            "show_loading": false,
            "subitems": [],
            "tile_size": 256,
            "tms": false,
            "url": "https://earthengine.googleapis.com/v1/projects/murphys-deforisk/maps/45b3a9f02f5ac43bc89d7206a20697a0-c6277ed764519d52e6d651c2825b6cba/tiles/{z}/{x}/{y}",
            "visible": true,
            "zoom_offset": 0
          }
        },
        "e20c8a1eb7bf43a0a52bbdb3a1bddf52": {
          "model_module": "@jupyter-widgets/base",
          "model_name": "LayoutModel",
          "model_module_version": "1.2.0",
          "state": {
            "_model_module": "@jupyter-widgets/base",
            "_model_module_version": "1.2.0",
            "_model_name": "LayoutModel",
            "_view_count": null,
            "_view_module": "@jupyter-widgets/base",
            "_view_module_version": "1.2.0",
            "_view_name": "LayoutView",
            "align_content": null,
            "align_items": null,
            "align_self": null,
            "border": null,
            "bottom": null,
            "display": null,
            "flex": null,
            "flex_flow": null,
            "grid_area": null,
            "grid_auto_columns": null,
            "grid_auto_flow": null,
            "grid_auto_rows": null,
            "grid_column": null,
            "grid_gap": null,
            "grid_row": null,
            "grid_template_areas": null,
            "grid_template_columns": null,
            "grid_template_rows": null,
            "height": "600px",
            "justify_content": null,
            "justify_items": null,
            "left": null,
            "margin": null,
            "max_height": null,
            "max_width": null,
            "min_height": null,
            "min_width": null,
            "object_fit": null,
            "object_position": null,
            "order": null,
            "overflow": null,
            "overflow_x": null,
            "overflow_y": null,
            "padding": null,
            "right": null,
            "top": null,
            "visibility": null,
            "width": null
          }
        },
        "aa45d7498fd74a3daf5cef544b7cb5a7": {
          "model_module": "jupyter-leaflet",
          "model_name": "LeafletMapStyleModel",
          "model_module_version": "^0.19",
          "state": {
            "_model_module": "jupyter-leaflet",
            "_model_module_version": "^0.19",
            "_model_name": "LeafletMapStyleModel",
            "_view_count": null,
            "_view_module": "@jupyter-widgets/base",
            "_view_module_version": "1.2.0",
            "_view_name": "StyleView",
            "cursor": "grab"
          }
        },
        "bbf77fae123a46cd8ad7a021057490ad": {
          "model_module": "@jupyter-widgets/controls",
          "model_name": "HBoxModel",
          "model_module_version": "1.5.0",
          "state": {
            "_dom_classes": [],
            "_model_module": "@jupyter-widgets/controls",
            "_model_module_version": "1.5.0",
            "_model_name": "HBoxModel",
            "_view_count": null,
            "_view_module": "@jupyter-widgets/controls",
            "_view_module_version": "1.5.0",
            "_view_name": "HBoxView",
            "box_style": "",
            "children": [
              "IPY_MODEL_7c28678e64aa45a1bd67d23b4dd7472e"
            ],
            "layout": "IPY_MODEL_922810e97f5c4856ac5117133db0324e"
          }
        },
        "f8b6f60861864e2a9f1bf5f0096bc042": {
          "model_module": "@jupyter-widgets/controls",
          "model_name": "VBoxModel",
          "model_module_version": "1.5.0",
          "state": {
            "_dom_classes": [],
            "_model_module": "@jupyter-widgets/controls",
            "_model_module_version": "1.5.0",
            "_model_name": "VBoxModel",
            "_view_count": null,
            "_view_module": "@jupyter-widgets/controls",
            "_view_module_version": "1.5.0",
            "_view_name": "VBoxView",
            "box_style": "",
            "children": [
              "IPY_MODEL_69e74fccbff346cca0522fb8fad03fad"
            ],
            "layout": "IPY_MODEL_eac089c8d4fb4c2eaea0e9be42cb2ff8"
          }
        },
        "7c28678e64aa45a1bd67d23b4dd7472e": {
          "model_module": "@jupyter-widgets/controls",
          "model_name": "ToggleButtonModel",
          "model_module_version": "1.5.0",
          "state": {
            "_dom_classes": [],
            "_model_module": "@jupyter-widgets/controls",
            "_model_module_version": "1.5.0",
            "_model_name": "ToggleButtonModel",
            "_view_count": null,
            "_view_module": "@jupyter-widgets/controls",
            "_view_module_version": "1.5.0",
            "_view_name": "ToggleButtonView",
            "button_style": "",
            "description": "",
            "description_tooltip": null,
            "disabled": false,
            "icon": "globe",
            "layout": "IPY_MODEL_402afca77091440f9b45d15b6c620ef0",
            "style": "IPY_MODEL_8391f6399113413d8fb307d0e980e76c",
            "tooltip": "Search location/data",
            "value": false
          }
        },
        "922810e97f5c4856ac5117133db0324e": {
          "model_module": "@jupyter-widgets/base",
          "model_name": "LayoutModel",
          "model_module_version": "1.2.0",
          "state": {
            "_model_module": "@jupyter-widgets/base",
            "_model_module_version": "1.2.0",
            "_model_name": "LayoutModel",
            "_view_count": null,
            "_view_module": "@jupyter-widgets/base",
            "_view_module_version": "1.2.0",
            "_view_name": "LayoutView",
            "align_content": null,
            "align_items": null,
            "align_self": null,
            "border": null,
            "bottom": null,
            "display": null,
            "flex": null,
            "flex_flow": null,
            "grid_area": null,
            "grid_auto_columns": null,
            "grid_auto_flow": null,
            "grid_auto_rows": null,
            "grid_column": null,
            "grid_gap": null,
            "grid_row": null,
            "grid_template_areas": null,
            "grid_template_columns": null,
            "grid_template_rows": null,
            "height": null,
            "justify_content": null,
            "justify_items": null,
            "left": null,
            "margin": null,
            "max_height": null,
            "max_width": null,
            "min_height": null,
            "min_width": null,
            "object_fit": null,
            "object_position": null,
            "order": null,
            "overflow": null,
            "overflow_x": null,
            "overflow_y": null,
            "padding": null,
            "right": null,
            "top": null,
            "visibility": null,
            "width": null
          }
        },
        "69e74fccbff346cca0522fb8fad03fad": {
          "model_module": "@jupyter-widgets/controls",
          "model_name": "ToggleButtonModel",
          "model_module_version": "1.5.0",
          "state": {
            "_dom_classes": [],
            "_model_module": "@jupyter-widgets/controls",
            "_model_module_version": "1.5.0",
            "_model_name": "ToggleButtonModel",
            "_view_count": null,
            "_view_module": "@jupyter-widgets/controls",
            "_view_module_version": "1.5.0",
            "_view_name": "ToggleButtonView",
            "button_style": "",
            "description": "",
            "description_tooltip": null,
            "disabled": false,
            "icon": "wrench",
            "layout": "IPY_MODEL_1dcd3927dfeb40769a14dfec515a5c80",
            "style": "IPY_MODEL_ed62ed11080b4bb5860f07c62ae9c594",
            "tooltip": "Toolbar",
            "value": false
          }
        },
        "eac089c8d4fb4c2eaea0e9be42cb2ff8": {
          "model_module": "@jupyter-widgets/base",
          "model_name": "LayoutModel",
          "model_module_version": "1.2.0",
          "state": {
            "_model_module": "@jupyter-widgets/base",
            "_model_module_version": "1.2.0",
            "_model_name": "LayoutModel",
            "_view_count": null,
            "_view_module": "@jupyter-widgets/base",
            "_view_module_version": "1.2.0",
            "_view_name": "LayoutView",
            "align_content": null,
            "align_items": null,
            "align_self": null,
            "border": null,
            "bottom": null,
            "display": null,
            "flex": null,
            "flex_flow": null,
            "grid_area": null,
            "grid_auto_columns": null,
            "grid_auto_flow": null,
            "grid_auto_rows": null,
            "grid_column": null,
            "grid_gap": null,
            "grid_row": null,
            "grid_template_areas": null,
            "grid_template_columns": null,
            "grid_template_rows": null,
            "height": null,
            "justify_content": null,
            "justify_items": null,
            "left": null,
            "margin": null,
            "max_height": null,
            "max_width": null,
            "min_height": null,
            "min_width": null,
            "object_fit": null,
            "object_position": null,
            "order": null,
            "overflow": null,
            "overflow_x": null,
            "overflow_y": null,
            "padding": null,
            "right": null,
            "top": null,
            "visibility": null,
            "width": null
          }
        },
        "402afca77091440f9b45d15b6c620ef0": {
          "model_module": "@jupyter-widgets/base",
          "model_name": "LayoutModel",
          "model_module_version": "1.2.0",
          "state": {
            "_model_module": "@jupyter-widgets/base",
            "_model_module_version": "1.2.0",
            "_model_name": "LayoutModel",
            "_view_count": null,
            "_view_module": "@jupyter-widgets/base",
            "_view_module_version": "1.2.0",
            "_view_name": "LayoutView",
            "align_content": null,
            "align_items": null,
            "align_self": null,
            "border": null,
            "bottom": null,
            "display": null,
            "flex": null,
            "flex_flow": null,
            "grid_area": null,
            "grid_auto_columns": null,
            "grid_auto_flow": null,
            "grid_auto_rows": null,
            "grid_column": null,
            "grid_gap": null,
            "grid_row": null,
            "grid_template_areas": null,
            "grid_template_columns": null,
            "grid_template_rows": null,
            "height": "28px",
            "justify_content": null,
            "justify_items": null,
            "left": null,
            "margin": null,
            "max_height": null,
            "max_width": null,
            "min_height": null,
            "min_width": null,
            "object_fit": null,
            "object_position": null,
            "order": null,
            "overflow": null,
            "overflow_x": null,
            "overflow_y": null,
            "padding": "0px 0px 0px 4px",
            "right": null,
            "top": null,
            "visibility": null,
            "width": "28px"
          }
        },
        "8391f6399113413d8fb307d0e980e76c": {
          "model_module": "@jupyter-widgets/controls",
          "model_name": "DescriptionStyleModel",
          "model_module_version": "1.5.0",
          "state": {
            "_model_module": "@jupyter-widgets/controls",
            "_model_module_version": "1.5.0",
            "_model_name": "DescriptionStyleModel",
            "_view_count": null,
            "_view_module": "@jupyter-widgets/base",
            "_view_module_version": "1.2.0",
            "_view_name": "StyleView",
            "description_width": ""
          }
        },
        "1dcd3927dfeb40769a14dfec515a5c80": {
          "model_module": "@jupyter-widgets/base",
          "model_name": "LayoutModel",
          "model_module_version": "1.2.0",
          "state": {
            "_model_module": "@jupyter-widgets/base",
            "_model_module_version": "1.2.0",
            "_model_name": "LayoutModel",
            "_view_count": null,
            "_view_module": "@jupyter-widgets/base",
            "_view_module_version": "1.2.0",
            "_view_name": "LayoutView",
            "align_content": null,
            "align_items": null,
            "align_self": null,
            "border": null,
            "bottom": null,
            "display": null,
            "flex": null,
            "flex_flow": null,
            "grid_area": null,
            "grid_auto_columns": null,
            "grid_auto_flow": null,
            "grid_auto_rows": null,
            "grid_column": null,
            "grid_gap": null,
            "grid_row": null,
            "grid_template_areas": null,
            "grid_template_columns": null,
            "grid_template_rows": null,
            "height": "28px",
            "justify_content": null,
            "justify_items": null,
            "left": null,
            "margin": null,
            "max_height": null,
            "max_width": null,
            "min_height": null,
            "min_width": null,
            "object_fit": null,
            "object_position": null,
            "order": null,
            "overflow": null,
            "overflow_x": null,
            "overflow_y": null,
            "padding": "0px 0px 0px 4px",
            "right": null,
            "top": null,
            "visibility": null,
            "width": "28px"
          }
        },
        "ed62ed11080b4bb5860f07c62ae9c594": {
          "model_module": "@jupyter-widgets/controls",
          "model_name": "DescriptionStyleModel",
          "model_module_version": "1.5.0",
          "state": {
            "_model_module": "@jupyter-widgets/controls",
            "_model_module_version": "1.5.0",
            "_model_name": "DescriptionStyleModel",
            "_view_count": null,
            "_view_module": "@jupyter-widgets/base",
            "_view_module_version": "1.2.0",
            "_view_name": "StyleView",
            "description_width": ""
          }
        },
        "9f2f27804b78485987bd4b2923f1a5fa": {
          "model_module": "@jupyter-widgets/controls",
          "model_name": "VBoxModel",
          "model_module_version": "1.5.0",
          "state": {
            "_dom_classes": [],
            "_model_module": "@jupyter-widgets/controls",
            "_model_module_version": "1.5.0",
            "_model_name": "VBoxModel",
            "_view_count": null,
            "_view_module": "@jupyter-widgets/controls",
            "_view_module_version": "1.5.0",
            "_view_name": "VBoxView",
            "box_style": "",
            "children": [
              "IPY_MODEL_c2344249ee2641d39914ae62025cb4d8",
              "IPY_MODEL_beb5cc37898e41d38df22d1088e07c02"
            ],
            "layout": "IPY_MODEL_715f3e1a6e164132bb6d1b9eaa561f59"
          }
        },
        "c2344249ee2641d39914ae62025cb4d8": {
          "model_module": "@jupyter-widgets/controls",
          "model_name": "ToggleButtonsModel",
          "model_module_version": "1.5.0",
          "state": {
            "_dom_classes": [],
            "_model_module": "@jupyter-widgets/controls",
            "_model_module_version": "1.5.0",
            "_model_name": "ToggleButtonsModel",
            "_options_labels": [
              "name/address",
              "lat-lon",
              "data"
            ],
            "_view_count": null,
            "_view_module": "@jupyter-widgets/controls",
            "_view_module_version": "1.5.0",
            "_view_name": "ToggleButtonsView",
            "button_style": "",
            "description": "",
            "description_tooltip": null,
            "disabled": false,
            "icons": [],
            "index": 0,
            "layout": "IPY_MODEL_07da23c8e20e4e9d8fe70cdc474cf646",
            "style": "IPY_MODEL_c9f4d8816fd3490a9eb56faf87312036",
            "tooltips": [
              "Search by place name or address",
              "Search by lat-lon coordinates",
              "Search Earth Engine data catalog"
            ]
          }
        },
        "beb5cc37898e41d38df22d1088e07c02": {
          "model_module": "@jupyter-widgets/controls",
          "model_name": "TextModel",
          "model_module_version": "1.5.0",
          "state": {
            "_dom_classes": [],
            "_model_module": "@jupyter-widgets/controls",
            "_model_module_version": "1.5.0",
            "_model_name": "TextModel",
            "_view_count": null,
            "_view_module": "@jupyter-widgets/controls",
            "_view_module_version": "1.5.0",
            "_view_name": "TextView",
            "continuous_update": true,
            "description": "",
            "description_tooltip": null,
            "disabled": false,
            "layout": "IPY_MODEL_a95dd27a57b14e07b15530bc129fbab4",
            "placeholder": "Search by place name or address",
            "style": "IPY_MODEL_0e228e9b72ee42ba84f97a55b2c40ac6",
            "value": ""
          }
        },
        "715f3e1a6e164132bb6d1b9eaa561f59": {
          "model_module": "@jupyter-widgets/base",
          "model_name": "LayoutModel",
          "model_module_version": "1.2.0",
          "state": {
            "_model_module": "@jupyter-widgets/base",
            "_model_module_version": "1.2.0",
            "_model_name": "LayoutModel",
            "_view_count": null,
            "_view_module": "@jupyter-widgets/base",
            "_view_module_version": "1.2.0",
            "_view_name": "LayoutView",
            "align_content": null,
            "align_items": null,
            "align_self": null,
            "border": null,
            "bottom": null,
            "display": null,
            "flex": null,
            "flex_flow": null,
            "grid_area": null,
            "grid_auto_columns": null,
            "grid_auto_flow": null,
            "grid_auto_rows": null,
            "grid_column": null,
            "grid_gap": null,
            "grid_row": null,
            "grid_template_areas": null,
            "grid_template_columns": null,
            "grid_template_rows": null,
            "height": null,
            "justify_content": null,
            "justify_items": null,
            "left": null,
            "margin": null,
            "max_height": null,
            "max_width": null,
            "min_height": null,
            "min_width": null,
            "object_fit": null,
            "object_position": null,
            "order": null,
            "overflow": null,
            "overflow_x": null,
            "overflow_y": null,
            "padding": null,
            "right": null,
            "top": null,
            "visibility": null,
            "width": null
          }
        },
        "07da23c8e20e4e9d8fe70cdc474cf646": {
          "model_module": "@jupyter-widgets/base",
          "model_name": "LayoutModel",
          "model_module_version": "1.2.0",
          "state": {
            "_model_module": "@jupyter-widgets/base",
            "_model_module_version": "1.2.0",
            "_model_name": "LayoutModel",
            "_view_count": null,
            "_view_module": "@jupyter-widgets/base",
            "_view_module_version": "1.2.0",
            "_view_name": "LayoutView",
            "align_content": null,
            "align_items": null,
            "align_self": null,
            "border": null,
            "bottom": null,
            "display": null,
            "flex": null,
            "flex_flow": null,
            "grid_area": null,
            "grid_auto_columns": null,
            "grid_auto_flow": null,
            "grid_auto_rows": null,
            "grid_column": null,
            "grid_gap": null,
            "grid_row": null,
            "grid_template_areas": null,
            "grid_template_columns": null,
            "grid_template_rows": null,
            "height": null,
            "justify_content": null,
            "justify_items": null,
            "left": null,
            "margin": null,
            "max_height": null,
            "max_width": null,
            "min_height": null,
            "min_width": null,
            "object_fit": null,
            "object_position": null,
            "order": null,
            "overflow": null,
            "overflow_x": null,
            "overflow_y": null,
            "padding": null,
            "right": null,
            "top": null,
            "visibility": null,
            "width": null
          }
        },
        "c9f4d8816fd3490a9eb56faf87312036": {
          "model_module": "@jupyter-widgets/controls",
          "model_name": "ToggleButtonsStyleModel",
          "model_module_version": "1.5.0",
          "state": {
            "_model_module": "@jupyter-widgets/controls",
            "_model_module_version": "1.5.0",
            "_model_name": "ToggleButtonsStyleModel",
            "_view_count": null,
            "_view_module": "@jupyter-widgets/base",
            "_view_module_version": "1.2.0",
            "_view_name": "StyleView",
            "button_width": "110px",
            "description_width": "",
            "font_weight": ""
          }
        },
        "a95dd27a57b14e07b15530bc129fbab4": {
          "model_module": "@jupyter-widgets/base",
          "model_name": "LayoutModel",
          "model_module_version": "1.2.0",
          "state": {
            "_model_module": "@jupyter-widgets/base",
            "_model_module_version": "1.2.0",
            "_model_name": "LayoutModel",
            "_view_count": null,
            "_view_module": "@jupyter-widgets/base",
            "_view_module_version": "1.2.0",
            "_view_name": "LayoutView",
            "align_content": null,
            "align_items": null,
            "align_self": null,
            "border": null,
            "bottom": null,
            "display": null,
            "flex": null,
            "flex_flow": null,
            "grid_area": null,
            "grid_auto_columns": null,
            "grid_auto_flow": null,
            "grid_auto_rows": null,
            "grid_column": null,
            "grid_gap": null,
            "grid_row": null,
            "grid_template_areas": null,
            "grid_template_columns": null,
            "grid_template_rows": null,
            "height": null,
            "justify_content": null,
            "justify_items": null,
            "left": null,
            "margin": null,
            "max_height": null,
            "max_width": null,
            "min_height": null,
            "min_width": null,
            "object_fit": null,
            "object_position": null,
            "order": null,
            "overflow": null,
            "overflow_x": null,
            "overflow_y": null,
            "padding": null,
            "right": null,
            "top": null,
            "visibility": null,
            "width": "340px"
          }
        },
        "0e228e9b72ee42ba84f97a55b2c40ac6": {
          "model_module": "@jupyter-widgets/controls",
          "model_name": "DescriptionStyleModel",
          "model_module_version": "1.5.0",
          "state": {
            "_model_module": "@jupyter-widgets/controls",
            "_model_module_version": "1.5.0",
            "_model_name": "DescriptionStyleModel",
            "_view_count": null,
            "_view_module": "@jupyter-widgets/base",
            "_view_module_version": "1.2.0",
            "_view_name": "StyleView",
            "description_width": ""
          }
        }
      }
    },
    "accelerator": "GPU"
  },
  "cells": [
    {
      "cell_type": "markdown",
      "metadata": {
        "id": "view-in-github",
        "colab_type": "text"
      },
      "source": [
        "<a href=\"https://colab.research.google.com/github/seamusrobertmurphy/wildfire-extent-global-data/blob/main/Winrock_Ecuador_Wildfire_Delineation_Task_5_060225.ipynb\" target=\"_parent\"><img src=\"https://colab.research.google.com/assets/colab-badge.svg\" alt=\"Open In Colab\"/></a>"
      ]
    },
    {
      "cell_type": "markdown",
      "source": [
        "### **Environment setup**"
      ],
      "metadata": {
        "id": "Zs-XkMfnTPG8"
      }
    },
    {
      "cell_type": "code",
      "execution_count": null,
      "metadata": {
        "collapsed": true,
        "id": "chWwp5P7qhRE"
      },
      "outputs": [],
      "source": [
        "!pip install leafmap geemap==0.16.4 geopandas numpy session_info\n",
        "import ee, json, geemap, ipyleaflet, os, numpy, session_info\n",
        "from google.colab import drive\n",
        "from google.colab import files\n",
        "!drive.mount('/content/drive')"
      ]
    },
    {
      "cell_type": "markdown",
      "metadata": {
        "id": "xwpf0JsWq9vR"
      },
      "source": [
        "### **Activate Earth Engine**"
      ]
    },
    {
      "cell_type": "code",
      "source": [
        "!earthengine authenticate\n",
        "#!ee.Authenticate() # deprecated in certain Colab environments\n",
        "ee.Initialize(project = \"murphys-deforisk\")"
      ],
      "metadata": {
        "id": "ZQu2Fqtpgow7"
      },
      "execution_count": null,
      "outputs": []
    },
    {
      "cell_type": "markdown",
      "source": [
        "### **Environment check**"
      ],
      "metadata": {
        "id": "cWLonLQPrryd"
      }
    },
    {
      "cell_type": "code",
      "source": [
        "# Check Runtime GPU\n",
        "gpu_info = !nvidia-smi\n",
        "gpu_info = '\\n'.join(gpu_info)\n",
        "if gpu_info.find('failed') >= 0: print('Not connected to a GPU')\n",
        "else: print(gpu_info)\n",
        "\n",
        "# Check Runtime-Allocated RAM\n",
        "from psutil import virtual_memory\n",
        "ram_gb = virtual_memory().total / 1e9\n",
        "print('Your runtime has {:.1f} gigabytes of available RAM\\n'.format(ram_gb))\n",
        "if ram_gb < 20: print('Not using a high-RAM runtime')\n",
        "else: print('You are using a high-RAM runtime!')"
      ],
      "metadata": {
        "colab": {
          "base_uri": "https://localhost:8080/"
        },
        "id": "sT2Hl19XZhKg",
        "outputId": "d1bab3a2-9117-49ae-fbba-1624525cd3f5"
      },
      "execution_count": 3,
      "outputs": [
        {
          "output_type": "stream",
          "name": "stdout",
          "text": [
            "Wed Jun 11 21:36:42 2025       \n",
            "+-----------------------------------------------------------------------------------------+\n",
            "| NVIDIA-SMI 550.54.15              Driver Version: 550.54.15      CUDA Version: 12.4     |\n",
            "|-----------------------------------------+------------------------+----------------------+\n",
            "| GPU  Name                 Persistence-M | Bus-Id          Disp.A | Volatile Uncorr. ECC |\n",
            "| Fan  Temp   Perf          Pwr:Usage/Cap |           Memory-Usage | GPU-Util  Compute M. |\n",
            "|                                         |                        |               MIG M. |\n",
            "|=========================================+========================+======================|\n",
            "|   0  Tesla T4                       Off |   00000000:00:04.0 Off |                    0 |\n",
            "| N/A   36C    P8             10W /   70W |       0MiB /  15360MiB |      0%      Default |\n",
            "|                                         |                        |                  N/A |\n",
            "+-----------------------------------------+------------------------+----------------------+\n",
            "                                                                                         \n",
            "+-----------------------------------------------------------------------------------------+\n",
            "| Processes:                                                                              |\n",
            "|  GPU   GI   CI        PID   Type   Process name                              GPU Memory |\n",
            "|        ID   ID                                                               Usage      |\n",
            "|=========================================================================================|\n",
            "|  No running processes found                                                             |\n",
            "+-----------------------------------------------------------------------------------------+\n",
            "Your runtime has 13.6 gigabytes of available RAM\n",
            "\n",
            "Not using a high-RAM runtime\n"
          ]
        }
      ]
    },
    {
      "cell_type": "markdown",
      "source": [
        "### **Import AOI: Jurisidiction Boundary**\n"
      ],
      "metadata": {
        "id": "a8jVqmt2TJch"
      }
    },
    {
      "cell_type": "code",
      "source": [
        "country = ee.FeatureCollection('FAO/GAUL/2015/level0').filter(\n",
        "    ee.Filter.equals(\"ADM0_NAME\", \"Ecuador\"))\n",
        "state = ee.FeatureCollection('FAO/GAUL/2015/level1').filter(\n",
        "    ee.Filter.equals(\"ADM0_NAME\", \"Ecuador\"))\n",
        "state_list = country.aggregate_array('ADM1_NAME').distinct().getInfo()\n",
        "state_list\n",
        "\n",
        "# derive earthengine centroid for faster rendering\n",
        "centroid_ee = country.first().geometry().centroid()"
      ],
      "metadata": {
        "id": "GgtmLpgrakJa"
      },
      "execution_count": 4,
      "outputs": []
    },
    {
      "cell_type": "markdown",
      "source": [
        "### **Map AOI: Jurisdiction Boundary**"
      ],
      "metadata": {
        "id": "re8001Fjs8NB"
      }
    },
    {
      "cell_type": "code",
      "source": [
        "red = {\"color\": \"red\", \"width\": 0.5, \"lineType\": \"solid\", \"fillColor\": \"00000000\"}\n",
        "white = {\"color\": \"white\", \"width\": 0.5, \"lineType\": \"solid\", \"fillColor\": \"00000000\"}\n",
        "country_label = ee.FeatureCollection([ee.Feature(\n",
        "    country.geometry().centroid(), {'country_name': country.first().get(\"ADM0_NAME\").getInfo()})])\n",
        "\n",
        "Map = geemap.Map()\n",
        "Map.centerObject(centroid_ee, 6)\n",
        "Map.add_basemap('Esri.WorldImagery')\n",
        "Map.addLayer(state.style(**red), {}, \"States\")\n",
        "Map.addLayer(country.style(**white), {}, \"Country\")\n",
        "Map.add_labels(state,\"ADM1_NAME\",font_size=\"6pt\",font_color=\"white\",font_family=\"arial\") #,font_weight=\"bold\",)\n",
        "Map.add_labels(country_label, \"country_name\", font_size=\"12pt\", font_color=\"white\", font_family=\"arial\",)\n",
        "Map"
      ],
      "metadata": {
        "colab": {
          "base_uri": "https://localhost:8080/",
          "height": 621,
          "referenced_widgets": [
            "bca0f71e2fd54e0eadc03b810c4acafe",
            "3d7b8352cdd347bbaf4edec84d74735e",
            "3194c0b3f36b45df91006ed359e4bbef",
            "19bc0d2025454119a97f5bb74b2a00d1",
            "a14ff19ed18b4729bff5fd59132f048c",
            "45b78b41a5aa46bf957b626a335d3259",
            "e7c349ead7bb4ac28e1e11b173acc9e9",
            "d844cad9b9d349d7b922f9e687fedb27",
            "56f68d26a6cc4c8a9a84f2f7e3711942",
            "eaffbfceda144be6bda7af9b65b3e509",
            "0b7d5884d69244389cdc4458c589d200",
            "e581b7055a1c46ee867f1a6408b12fb4",
            "050cf51c90ee48ee944c081bfc2ea9ce",
            "87489a55db2b47c9aa1b5acc1aba704e",
            "dfdd96111f124db68e43c6a5a697f8cd",
            "f606216d282e44588de7be67d0e919be",
            "bb7c3c7ad30a4d84be1b0f1b63e59bc5",
            "d8a704d89fe6425dbfd5a776f3b38c08",
            "95a1662c3db241e7b96d7dc70542b6ef",
            "b976b5b0fd7c4068993a4b3955d178db",
            "81ae99a8fcfa4f45b14741c8aac0174d",
            "dff27282976043b6a035ecc5caf2b862",
            "6713fa9a85ef41dc843f051da55715e7",
            "1f5edd95df2245f5be6be716a377d0cc",
            "7bdc4d6d2e6a40d9b2d2912574823da1",
            "49e51cbc1a684a71811ac35d034c2af2",
            "537d28b5672f46f8868b963fe427e407",
            "aff8dad4bdb748df8c653bf8977cc50f",
            "65d1338e796a485d955721a6d2a6e9cd",
            "837080387dc7488aadac88f83874567c",
            "2a25440b0bc44031a53533b09dc81262",
            "9a0788503e37477698301e86ec88d0a7",
            "408e76d8ea3d426d83361869e26c028f",
            "848b57c7b6c14c6592efaf497feefe65",
            "afdeb023822e4affaa03b34b611ff88e",
            "ae603d4011ae4e9394bc1363849c28f6",
            "4c01ccef63f64f89b5669c9794d1983a",
            "337121e3c5a7453b9db03766ff2f22e1",
            "1cb720c9a4bc48288160e8b8fa4f8a51",
            "2195aeddddf04783aeaf1eb077ddfc22",
            "114684c2038b4c19a1c03ac4a063db4b",
            "7d4cbf8e7a4e4923afd3b80c2b50076a",
            "51526ceba2494a00b9fffce432b49a5f",
            "273fbd75e0fd4e36b9cc02f7e6488999",
            "ba15ed9ad8bd46faa07fa71b37e8547d",
            "646e596a722b44f59f8e2dece131ec3f",
            "acb945149864486cafaf8aef6848ba47",
            "67ef0c76e6004a4e85379be3324b35d7",
            "e506411733974d68aa95727c643aba74",
            "423d43cbbee041f98c14146508bf0a33",
            "69329e9857474464b6c3139d55840a6c",
            "7003c661e80046cd8bc20c1f43a05287",
            "60bf7ac74f8b41978d8e32cd2766cb87",
            "311eb59f89fd4e4da5a9ab138e5c5bb6",
            "deb69a3949a94f8c850a40139fec391c",
            "21ad0c08d88143ffb3b354744af16e93",
            "06682b43759b400da79fa9d0cbf62a74",
            "a57c981845664ac7968b6fa9f5562dcf",
            "caa16a6d4cd249b29322eefbfb6892f4",
            "2a97d645d1fd4231beb944cb8f87f722",
            "c3cf92bd12db4d12afac874602f967ea",
            "facc511631fc47eb960042c4a8e1cee6",
            "d868182070344d49a7dd2b5c0dc5aebf",
            "56a9667fd24e43c3b89da1adf35fd4db",
            "e5fd5449bcc0423783841e7e29462abd",
            "7aeb14b08854454da4d60a111a25341a",
            "1a9e5f6aedf149dfb2d97bb028db06d5",
            "f6c3777e7e4d4de982c631667dfbc81d",
            "605ffc970bb847ff856412fce51c219e",
            "d2cd9fc5c3344950a3ba17b318443266",
            "f815857ffa3f4726baef32c9e8b8cb7a",
            "c878e78bf9f243cbbbc656fb7ab86d69",
            "921adc15a45f4f4c8db321a6ef4442de",
            "cea76e439d584e3898536fb29b3236dc",
            "82784b5a10ad4910a511828619915904",
            "b5ab0685bdad470188e4421298b3ca9a",
            "158a9df85e2448fda3a515d84ef807a3",
            "b925a15281ef47629ab36558d6dfdc54",
            "6b94e66890ee4256b68769e5edf55ef5",
            "1c7140d9fc034d02a167cdd5169bce1b",
            "18872d7769dd4207b93f10ef8a0ff0f0",
            "882fa1f17bed4aa1a6490339549eed67"
          ]
        },
        "id": "6K7u7Ox57ZQb",
        "outputId": "2faef220-0bdd-442e-c09e-6d30804ff31f"
      },
      "execution_count": 10,
      "outputs": [
        {
          "output_type": "display_data",
          "data": {
            "text/plain": [
              "Map(center=[-1.4328003721031835, -78.76612016462707], controls=(WidgetControl(options=['position', 'transparen…"
            ],
            "application/vnd.jupyter.widget-view+json": {
              "version_major": 2,
              "version_minor": 0,
              "model_id": "bca0f71e2fd54e0eadc03b810c4acafe"
            }
          },
          "metadata": {
            "application/vnd.jupyter.widget-view+json": {
              "colab": {
                "custom_widget_manager": {
                  "url": "https://ssl.gstatic.com/colaboratory-static/widgets/colab-cdn-widget-manager/2b70e893a8ba7c0f/manager.min.js"
                }
              }
            }
          }
        }
      ]
    },
    {
      "cell_type": "markdown",
      "source": [
        "### **Import FireCCI51: MODIS Burned Area Dataset**"
      ],
      "metadata": {
        "id": "fajxhXRUuJay"
      }
    },
    {
      "cell_type": "code",
      "source": [
        "# Load the FireCCI51 dataset\n",
        "dataset_reference_period = ee.ImageCollection('ESA/CCI/FireCCI/5_1').filterDate('2012-01-01', '2016-12-31')\n",
        "dataset_crediting_period = ee.ImageCollection('ESA/CCI/FireCCI/5_1').filterDate('2017-01-01', '2024-12-31')\n",
        "\n",
        "# Select the BurnDate band\n",
        "burnedArea_reference_period = dataset_reference_period.select('BurnDate')\n",
        "burnedArea_crediting_period = dataset_crediting_period.select('BurnDate')\n",
        "\n",
        "# Use a circular palette to assign colors to date of first detection\n",
        "baVis = {\n",
        "  'min': 1,\n",
        "  'max': 366,\n",
        "  'palette': [\n",
        "    'ff0000', 'fd4100', 'fb8200', 'f9c400', 'f2ff00', 'b6ff05',\n",
        "    '7aff0a', '3eff0f', '02ff15', '00ff55', '00ff99', '00ffdd',\n",
        "    '00ddff', '0098ff', '0052ff', '0210ff', '3a0dfb', '7209f6',\n",
        "    'a905f1', 'e102ed', 'ff00cc', 'ff0089', 'ff0047', 'ff0004'\n",
        "  ]\n",
        "}\n",
        "\n",
        "# Get the maximum burn date\n",
        "maxBA_reference_period = burnedArea_reference_period.max()\n",
        "maxBA_crediting_period = burnedArea_crediting_period.max()"
      ],
      "metadata": {
        "id": "B1YhjKbzvMPG"
      },
      "execution_count": 6,
      "outputs": []
    },
    {
      "cell_type": "markdown",
      "source": [
        "## **Map Burn: Reference Period**"
      ],
      "metadata": {
        "id": "OfLXfRye2yYK"
      }
    },
    {
      "cell_type": "code",
      "source": [
        "Map = geemap.Map()\n",
        "Map.centerObject(centroid_ee, 8)\n",
        "Map.add_basemap('Esri.WorldImagery')\n",
        "#Map.addLayer(country.style(**white), {}, \"Country\")\n",
        "Map.addLayer(state.style(**white), {}, \"States\")\n",
        "Map.addLayer(maxBA_reference_period, baVis, 'Burned Area')\n",
        "Map\n",
        "\n",
        "# Get info about the image\n",
        "#print(maxBA_reference_period.getInfo())"
      ],
      "metadata": {
        "colab": {
          "base_uri": "https://localhost:8080/",
          "height": 621,
          "referenced_widgets": [
            "ed3a3a51624f4f74985aef8705972d75",
            "3140aeac381849e2a096c51c9336b564",
            "495561c2e8d84e8b9d9be2c39ebf9708",
            "e52fcea58c624f098829a0690c17f680",
            "e09273dd8c934a0eadd984fc621aad1a",
            "0bb06c5fb67a45aaa5dd22ed467849b4",
            "03240b2d6fad4c3aa37c9f626edd370f",
            "7b067aeb80ae44c6b5a5019fd3951ce4",
            "c0984c5d6ccd4114a3ce483e99bf8bc0",
            "11356028eb064edfa283f0051837af34",
            "3416438c30364f638c0924cc1782891b",
            "92b2c024b4604d97b7923aa29047803e",
            "050cf51c90ee48ee944c081bfc2ea9ce",
            "87489a55db2b47c9aa1b5acc1aba704e",
            "9a1ba0ee7c434d00a3808fe231c05dbb",
            "441b456f4fb5403ea7a70cf6cf00ab90",
            "a1d1f16f82db4384a88f522ce127607a",
            "9e71585fa1d548aa9514c6385aee8592",
            "10e9f4681be34a73bfe0a2fc079b1e1f",
            "c5c3f9bc215c4641a84a79da46fc4056",
            "14670b79aa6c49df9a37a99ab8512fff",
            "f223f0e461574b4693d3ea99f8cb11be",
            "91da6428b64d4a489192fc7310d4c020",
            "f1e0b32b7dc747d0be9d073ab0baae89",
            "db46f5cdf057456c96f8a30b38ef3c2b",
            "c971fac71f0b49d6bcea2abbcc08827b",
            "39ad6d022ac345bfb1cd7815a0276ab9",
            "e51fb9e366c440d69ec0fc15da4ee024"
          ]
        },
        "id": "qo5yFg942xd0",
        "outputId": "3639b756-615f-4825-b9c8-d23d6efa806d"
      },
      "execution_count": 11,
      "outputs": [
        {
          "output_type": "display_data",
          "data": {
            "text/plain": [
              "Map(center=[-1.4328003721031835, -78.76612016462707], controls=(WidgetControl(options=['position', 'transparen…"
            ],
            "application/vnd.jupyter.widget-view+json": {
              "version_major": 2,
              "version_minor": 0,
              "model_id": "ed3a3a51624f4f74985aef8705972d75"
            }
          },
          "metadata": {
            "application/vnd.jupyter.widget-view+json": {
              "colab": {
                "custom_widget_manager": {
                  "url": "https://ssl.gstatic.com/colaboratory-static/widgets/colab-cdn-widget-manager/2b70e893a8ba7c0f/manager.min.js"
                }
              }
            }
          }
        }
      ]
    },
    {
      "cell_type": "markdown",
      "source": [
        "## **Map Burn: Crediting Period**"
      ],
      "metadata": {
        "id": "g7x5HQHN7Jix"
      }
    },
    {
      "cell_type": "code",
      "source": [
        "Map = geemap.Map()\n",
        "Map.centerObject(centroid_ee, 8)\n",
        "Map.add_basemap('Esri.WorldImagery')\n",
        "#Map.addLayer(country.style(**white), {}, \"Country\")\n",
        "Map.addLayer(state.style(**white), {}, \"States\")\n",
        "Map.addLayer(maxBA_crediting_period, baVis, 'Burned Area')\n",
        "Map"
      ],
      "metadata": {
        "colab": {
          "base_uri": "https://localhost:8080/",
          "height": 621,
          "referenced_widgets": [
            "1ec7170650e144b0a7ebc79b35a26a67",
            "63c654a291ab42bbb028be45527b9f04",
            "76a7c9a8551d480aa7d1c3f29301e4e7",
            "41b434e792f94dcea8304dc23a00b2a0",
            "dee213e2b6a6473782689b0bb64fb4ed",
            "ce3c9e1fbdf4416dba2949f654959703",
            "8a869d02106843bfbb49ccf5ebeee7ae",
            "cf8115f2b01142b5bc169c4f8f39aefb",
            "c272e48f82ee4ec184baee860bbde87c",
            "346600d4629644be898d603ccc2977a6",
            "2ee5afd0469442ef80fb19e2f8ac78af",
            "60e56aa1411440d8b40c81d9d33e714b",
            "050cf51c90ee48ee944c081bfc2ea9ce",
            "87489a55db2b47c9aa1b5acc1aba704e",
            "71b1fbefcb01494a823a41f6822d4a1d",
            "14577082f6304f7b99c162278b49604e",
            "e20c8a1eb7bf43a0a52bbdb3a1bddf52",
            "aa45d7498fd74a3daf5cef544b7cb5a7",
            "bbf77fae123a46cd8ad7a021057490ad",
            "f8b6f60861864e2a9f1bf5f0096bc042",
            "7c28678e64aa45a1bd67d23b4dd7472e",
            "922810e97f5c4856ac5117133db0324e",
            "69e74fccbff346cca0522fb8fad03fad",
            "eac089c8d4fb4c2eaea0e9be42cb2ff8",
            "402afca77091440f9b45d15b6c620ef0",
            "8391f6399113413d8fb307d0e980e76c",
            "1dcd3927dfeb40769a14dfec515a5c80",
            "ed62ed11080b4bb5860f07c62ae9c594",
            "9f2f27804b78485987bd4b2923f1a5fa",
            "c2344249ee2641d39914ae62025cb4d8",
            "beb5cc37898e41d38df22d1088e07c02",
            "715f3e1a6e164132bb6d1b9eaa561f59",
            "07da23c8e20e4e9d8fe70cdc474cf646",
            "c9f4d8816fd3490a9eb56faf87312036",
            "a95dd27a57b14e07b15530bc129fbab4",
            "0e228e9b72ee42ba84f97a55b2c40ac6"
          ]
        },
        "id": "_4-QOw8z3Arx",
        "outputId": "53543647-e9b0-4a7c-81db-b8decc9c81e9"
      },
      "execution_count": 8,
      "outputs": [
        {
          "output_type": "display_data",
          "data": {
            "text/plain": [
              "Map(center=[-1.4328003721031835, -78.76612016462707], controls=(WidgetControl(options=['position', 'transparen…"
            ],
            "application/vnd.jupyter.widget-view+json": {
              "version_major": 2,
              "version_minor": 0,
              "model_id": "1ec7170650e144b0a7ebc79b35a26a67"
            }
          },
          "metadata": {
            "application/vnd.jupyter.widget-view+json": {
              "colab": {
                "custom_widget_manager": {
                  "url": "https://ssl.gstatic.com/colaboratory-static/widgets/colab-cdn-widget-manager/2b70e893a8ba7c0f/manager.min.js"
                }
              }
            }
          }
        }
      ]
    },
    {
      "cell_type": "markdown",
      "source": [
        "## **Export Reference & Crediting Period Rasters**"
      ],
      "metadata": {
        "id": "GgEKMGco5gM9"
      }
    },
    {
      "source": [
        "# Export the maxBA_reference_period raster to Google Drive\n",
        "task_reference = ee.batch.Export.image.toDrive(\n",
        "    image=maxBA_reference_period,\n",
        "    description='maxBA_reference_period',\n",
        "    folder='Ecuador-Wildfire-Delineation',  # Specify folder in your Google Drive\n",
        "    fileNamePrefix='maxBA_reference_period',\n",
        "    region=country.geometry(),\n",
        "    scale=250,  # Set the desired resolution, we apply native MODIS resolution here before downsampling\n",
        "    crs='EPSG:4326', # Set the desired coordinate reference system\n",
        "    maxPixels= 1e13,\n",
        "    fileFormat= 'GeoTIFF',\n",
        "    formatOptions= {'cloudOptimized': True}\n",
        ")\n",
        "\n",
        "# Start the export task\n",
        "#task_reference.start()\n",
        "\n",
        "# Export the maxBA_crediting_period raster to Google Drive\n",
        "task_crediting = ee.batch.Export.image.toDrive(\n",
        "    image=maxBA_crediting_period,\n",
        "    description='maxBA_crediting_period',\n",
        "    folder='Ecuador-Wildfire-Delineation',  # Specify the same or a different folder\n",
        "    fileNamePrefix='maxBA_crediting_period',\n",
        "    region=country.geometry(),\n",
        "    scale=30,\n",
        "    crs='EPSG:4326', # Set the desired coordinate reference system\n",
        "    maxPixels= 1e13,\n",
        "    fileFormat= 'GeoTIFF',\n",
        "    formatOptions= {'cloudOptimized': True}\n",
        ")\n",
        "\n",
        "# Start the export task\n",
        "#task_crediting.start()\n",
        "#print('Export tasks started. Check the Tasks tab in the Earth Engine Code Editor to monitor progress.')"
      ],
      "cell_type": "code",
      "metadata": {
        "id": "RFljSfM-6R9z"
      },
      "execution_count": null,
      "outputs": []
    },
    {
      "cell_type": "code",
      "source": [
        "session_info.show()"
      ],
      "metadata": {
        "colab": {
          "base_uri": "https://localhost:8080/",
          "height": 399
        },
        "id": "C9P5MISp5R44",
        "outputId": "330c8df1-bec0-47a9-80a2-1d215dbabf54"
      },
      "execution_count": null,
      "outputs": [
        {
          "output_type": "execute_result",
          "data": {
            "text/plain": [
              "<IPython.core.display.HTML object>"
            ],
            "text/html": [
              "<details>\n",
              "<summary>Click to view session information</summary>\n",
              "<pre>\n",
              "-----\n",
              "ee                  1.5.15\n",
              "geemap              0.16.4\n",
              "google              NA\n",
              "ipyleaflet          0.19.2\n",
              "numpy               2.0.2\n",
              "psutil              5.9.5\n",
              "session_info        v1.0.1\n",
              "-----\n",
              "</pre>\n",
              "<details>\n",
              "<summary>Click to view modules imported as dependencies</summary>\n",
              "<pre>\n",
              "OpenSSL                     24.2.1\n",
              "PIL                         11.2.1\n",
              "anyio                       NA\n",
              "arrow                       1.3.0\n",
              "attr                        25.3.0\n",
              "attrs                       25.3.0\n",
              "babel                       2.17.0\n",
              "backcall                    0.2.0\n",
              "backports                   NA\n",
              "bottleneck                  1.4.2\n",
              "box                         7.3.2\n",
              "bqplot                      0.12.45\n",
              "branca                      0.8.1\n",
              "cachetools                  5.5.2\n",
              "cairo                       1.28.0\n",
              "certifi                     2025.04.26\n",
              "chardet                     5.2.0\n",
              "charset_normalizer          3.4.2\n",
              "cloudpickle                 3.1.1\n",
              "cryptography                43.0.3\n",
              "cycler                      0.12.1\n",
              "cython_runtime              NA\n",
              "dateutil                    2.9.0.post0\n",
              "debugpy                     1.8.0\n",
              "decorator                   4.4.2\n",
              "defusedxml                  0.7.1\n",
              "fastjsonschema              NA\n",
              "folium                      0.19.6\n",
              "fqdn                        NA\n",
              "gi                          3.42.0\n",
              "gio                         NA\n",
              "glib                        NA\n",
              "gobject                     NA\n",
              "google_auth_httplib2        NA\n",
              "googleapiclient             NA\n",
              "gtk                         NA\n",
              "httplib2                    0.22.0\n",
              "idna                        3.10\n",
              "importlib_metadata          NA\n",
              "ipyevents                   2.0.1\n",
              "ipyfilechooser              0.6.0\n",
              "ipykernel                   6.17.1\n",
              "ipython_genutils            0.2.0\n",
              "ipytree                     0.2.2\n",
              "ipywidgets                  7.7.1\n",
              "isoduration                 NA\n",
              "jaraco                      NA\n",
              "jinja2                      3.1.6\n",
              "json5                       0.12.0\n",
              "jsonpointer                 3.0.0\n",
              "jsonschema                  4.23.0\n",
              "jsonschema_specifications   NA\n",
              "jupyter_events              0.12.0\n",
              "jupyter_server              2.16.0\n",
              "jupyterlab_server           2.27.3\n",
              "kiwisolver                  1.4.8\n",
              "markupsafe                  3.0.2\n",
              "matplotlib                  3.10.0\n",
              "matplotlib_inline           0.1.7\n",
              "more_itertools              10.7.0\n",
              "mpl_toolkits                NA\n",
              "msgpack                     1.1.0\n",
              "nbformat                    5.10.4\n",
              "numexpr                     2.10.2\n",
              "oauth2client                4.1.3\n",
              "overrides                   NA\n",
              "packaging                   24.2\n",
              "pandas                      2.2.2\n",
              "pexpect                     4.9.0\n",
              "pickleshare                 0.7.5\n",
              "pkg_resources               NA\n",
              "platformdirs                4.3.8\n",
              "portpicker                  NA\n",
              "prometheus_client           NA\n",
              "prompt_toolkit              3.0.51\n",
              "ptyprocess                  0.7.0\n",
              "pyarrow                     18.1.0\n",
              "pyasn1                      0.6.1\n",
              "pyasn1_modules              0.4.2\n",
              "pydev_ipython               NA\n",
              "pydevconsole                NA\n",
              "pydevd                      2.9.5\n",
              "pydevd_file_utils           NA\n",
              "pydevd_plugins              NA\n",
              "pydevd_tracing              NA\n",
              "pygments                    2.19.1\n",
              "pyparsing                   3.2.3\n",
              "pythonjsonlogger            NA\n",
              "pytz                        2025.2\n",
              "rapids_dask_dependency      NA\n",
              "referencing                 NA\n",
              "requests                    2.32.3\n",
              "rfc3339_validator           0.1.4\n",
              "rfc3986_validator           0.1.1\n",
              "rpds                        NA\n",
              "rsa                         4.9.1\n",
              "scooby                      0.10.1\n",
              "send2trash                  NA\n",
              "simplejson                  3.20.1\n",
              "sitecustomize               NA\n",
              "six                         1.17.0\n",
              "sniffio                     1.3.1\n",
              "socks                       1.7.1\n",
              "sphinxcontrib               NA\n",
              "storemagic                  NA\n",
              "toml                        0.10.2\n",
              "tomli                       2.0.1\n",
              "tomllib                     NA\n",
              "tornado                     6.4.2\n",
              "traitlets                   5.7.1\n",
              "traittypes                  0.2.1\n",
              "typing_extensions           NA\n",
              "uri_template                NA\n",
              "uritemplate                 4.1.1\n",
              "urllib3                     2.4.0\n",
              "wcwidth                     0.2.13\n",
              "webcolors                   NA\n",
              "websocket                   1.8.0\n",
              "xyzservices                 2025.4.0\n",
              "yaml                        6.0.2\n",
              "zipp                        NA\n",
              "zmq                         24.0.1\n",
              "zoneinfo                    NA\n",
              "zstandard                   0.23.0\n",
              "</pre>\n",
              "</details> <!-- seems like this ends pre, so might as well be explicit -->\n",
              "<pre>\n",
              "-----\n",
              "IPython             7.34.0\n",
              "jupyter_client      6.1.12\n",
              "jupyter_core        5.7.2\n",
              "jupyterlab          4.4.3\n",
              "notebook            6.5.7\n",
              "-----\n",
              "Python 3.11.12 (main, Apr  9 2025, 08:55:54) [GCC 11.4.0]\n",
              "Linux-6.1.123+-x86_64-with-glibc2.35\n",
              "-----\n",
              "Session information updated at 2025-06-03 13:05\n",
              "</pre>\n",
              "</details>"
            ]
          },
          "metadata": {},
          "execution_count": 34
        }
      ]
    }
  ]
}